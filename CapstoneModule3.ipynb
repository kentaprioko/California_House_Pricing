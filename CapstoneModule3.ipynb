{
 "cells": [
  {
   "cell_type": "code",
   "execution_count": 2,
   "metadata": {},
   "outputs": [],
   "source": [
    "import numpy as np \n",
    "import pandas as pd \n",
    "import seaborn as sns \n",
    "import matplotlib.pyplot as plt\n",
    "\n",
    "from sklearn.model_selection import train_test_split\n",
    "\n",
    "from sklearn.preprocessing import MinMaxScaler, RobustScaler, StandardScaler\n",
    "\n",
    "from sklearn.compose import ColumnTransformer\n",
    "from imblearn.pipeline import Pipeline\n",
    "\n",
    "from sklearn.metrics import mean_absolute_error, mean_absolute_percentage_error, mean_squared_error\n",
    "\n",
    "from sklearn.impute import SimpleImputer\n",
    "from category_encoders import OneHotEncoder\n",
    "\n",
    "from sklearn.tree import plot_tree, DecisionTreeRegressor\n",
    "from sklearn.linear_model import LinearRegression\n",
    "from sklearn.neighbors import KNeighborsRegressor\n",
    "from xgboost import XGBRegressor\n",
    "from sklearn.ensemble import RandomForestRegressor\n",
    "\n",
    "from sklearn.model_selection import GridSearchCV, RandomizedSearchCV, cross_validate\n",
    "\n",
    "from scipy.stats import shapiro\n",
    "import pickle\n"
   ]
  },
  {
   "cell_type": "markdown",
   "metadata": {},
   "source": [
    "### **Business Problem Understanding**"
   ]
  },
  {
   "cell_type": "markdown",
   "metadata": {},
   "source": [
    "#### **Context**"
   ]
  },
  {
   "cell_type": "markdown",
   "metadata": {},
   "source": [
    "Tempat tinggal merupakan salah satu bentuk dari kebutuhan primer (papan). Karena tempat tinggal merupakan kebutuhan primer, maka kebutuhan akan tempat tinggal pada setiap orang harus selalu terpenuhi dan permintaannya pun akan selalu ada sepanjang masa. Sebagai negara bagian di Amerika Serikat dengan jumlah penduduk terbanyak, jumlah permintaan akan tempat tinggal di California tentunya sangatlah tinggi.\n",
    "\n",
    "Karena tingginya permintaan akan tempat tinggal, banyak orang yang masuk ke dalam bisnis jual-beli rumah dengan tujuan untuk berinvestasi. Orang-orang ini membeli rumah bukan untuk ditempati, tapi untuk dijual lagi di masa depan dengan harapan harga rumah tersebut akan naik seiring dengan berjalannya waktu. Selain itu, banyak juga orang yang menjual rumah mereka dengan harga yang kurang masuk akan dengan tujuan untuk mendapatkan keuntungan sebesar-besarnya. Hal tersebut mengakibatkan sulitnya menentukan harga 'asli' dari suatu rumah."
   ]
  },
  {
   "cell_type": "markdown",
   "metadata": {},
   "source": [
    "#### **Problem Statement**"
   ]
  },
  {
   "cell_type": "markdown",
   "metadata": {},
   "source": [
    "Sebagai negara bagian dengan luas wilayah terbesar ketiga di Amerika Serikat, berpergian untuk menentukan harga dari suatu rumah bisa memakan waktu dan biaya yang cukup besar. Sebuah perusahaan real estate di California harus mengeluarkan biaya yang besar jika lokasi rumah yang harganya ingin ditentukan cukup jauh dengan lokasi dari kantor perusahaan real estate tersebut."
   ]
  },
  {
   "cell_type": "markdown",
   "metadata": {},
   "source": [
    "#### **Goals**"
   ]
  },
  {
   "cell_type": "markdown",
   "metadata": {},
   "source": [
    "Berdasarkan permasalahan diatas, dibutuhkan sebuah alat yang dapat membantu perusahaan real estate dalam menentukan harga dari suatu rumah hanya berdasarkan data spesifikasi dari rumah tersebut. Sehingga perusahaan real estate dapat menentukan harga suatu rumah tanpa harus datang langsung ke lokasi rumah tersebut. Hal tersebut tentunya akan mengurangi biaya perjalanan yang harus dikeluarkan oleh perusahaan."
   ]
  },
  {
   "cell_type": "markdown",
   "metadata": {},
   "source": [
    "#### **Analytic Approach**"
   ]
  },
  {
   "cell_type": "markdown",
   "metadata": {},
   "source": [
    "Membuat suatu model regresi menggunakan machine learning yang dapat digunakan untuk menentukan harga suatu rumah dengan menganalisis data, dan mencari pola dari fitur-fitur yang ada untuk membedakan harga pada masing-masing rumah."
   ]
  },
  {
   "cell_type": "markdown",
   "metadata": {},
   "source": [
    "#### **Metric Evaluation**"
   ]
  },
  {
   "cell_type": "markdown",
   "metadata": {},
   "source": [
    "### **Data Understanding**"
   ]
  },
  {
   "cell_type": "markdown",
   "metadata": {},
   "source": [
    "- Dataset merupakan hasil sensus California pada tahun 1990.\n",
    "- Setiap baris data berisi tentang informasi rumah yang ada di suatu distrik di California berdasarkan hasil sensus pada tahun 1990.\n",
    "\n",
    "**Attributes Information**\n",
    "\n",
    "| **Attribute** | **Data Type** | **Description** |\n",
    "| --- | --- | --- |\n",
    "| longitude | Float | A measure of how far west a house is |\n",
    "| latitude | Float | A measure of how far north a house is |\n",
    "| housingMedianAge | Float | Median age of a house within a block |\n",
    "| totalRooms | Float | Total number of rooms within a block |\n",
    "| totalBedrooms | Float | Total number of bedrooms within a block |\n",
    "| population | Float | Total number of people residing within a block |\n",
    "| households | Float | Total number of households, a group of people residing within a home unit, for a block |\n",
    "| medianIncome | Float | Median income for households within a block of houses (measured in tens of thousands of US Dollars) |\n",
    "| medianHouseValue | Float | Median house value for households within a block (measured in US Dollars) |\n",
    "| oceanProximity | Object | Location of the house w.r.t ocean/seas |\n",
    "\n",
    "<br>"
   ]
  },
  {
   "cell_type": "markdown",
   "metadata": {},
   "source": [
    "#### *Load Dataset*"
   ]
  },
  {
   "cell_type": "code",
   "execution_count": 3,
   "metadata": {},
   "outputs": [
    {
     "data": {
      "text/html": [
       "<div>\n",
       "<style scoped>\n",
       "    .dataframe tbody tr th:only-of-type {\n",
       "        vertical-align: middle;\n",
       "    }\n",
       "\n",
       "    .dataframe tbody tr th {\n",
       "        vertical-align: top;\n",
       "    }\n",
       "\n",
       "    .dataframe thead th {\n",
       "        text-align: right;\n",
       "    }\n",
       "</style>\n",
       "<table border=\"1\" class=\"dataframe\">\n",
       "  <thead>\n",
       "    <tr style=\"text-align: right;\">\n",
       "      <th></th>\n",
       "      <th>longitude</th>\n",
       "      <th>latitude</th>\n",
       "      <th>housing_median_age</th>\n",
       "      <th>total_rooms</th>\n",
       "      <th>total_bedrooms</th>\n",
       "      <th>population</th>\n",
       "      <th>households</th>\n",
       "      <th>median_income</th>\n",
       "      <th>ocean_proximity</th>\n",
       "      <th>median_house_value</th>\n",
       "    </tr>\n",
       "  </thead>\n",
       "  <tbody>\n",
       "    <tr>\n",
       "      <th>0</th>\n",
       "      <td>-119.79</td>\n",
       "      <td>36.73</td>\n",
       "      <td>52.0</td>\n",
       "      <td>112.0</td>\n",
       "      <td>28.0</td>\n",
       "      <td>193.0</td>\n",
       "      <td>40.0</td>\n",
       "      <td>1.9750</td>\n",
       "      <td>INLAND</td>\n",
       "      <td>47500.0</td>\n",
       "    </tr>\n",
       "    <tr>\n",
       "      <th>1</th>\n",
       "      <td>-122.21</td>\n",
       "      <td>37.77</td>\n",
       "      <td>43.0</td>\n",
       "      <td>1017.0</td>\n",
       "      <td>328.0</td>\n",
       "      <td>836.0</td>\n",
       "      <td>277.0</td>\n",
       "      <td>2.2604</td>\n",
       "      <td>NEAR BAY</td>\n",
       "      <td>100000.0</td>\n",
       "    </tr>\n",
       "    <tr>\n",
       "      <th>2</th>\n",
       "      <td>-118.04</td>\n",
       "      <td>33.87</td>\n",
       "      <td>17.0</td>\n",
       "      <td>2358.0</td>\n",
       "      <td>396.0</td>\n",
       "      <td>1387.0</td>\n",
       "      <td>364.0</td>\n",
       "      <td>6.2990</td>\n",
       "      <td>&lt;1H OCEAN</td>\n",
       "      <td>285800.0</td>\n",
       "    </tr>\n",
       "    <tr>\n",
       "      <th>3</th>\n",
       "      <td>-118.28</td>\n",
       "      <td>34.06</td>\n",
       "      <td>17.0</td>\n",
       "      <td>2518.0</td>\n",
       "      <td>1196.0</td>\n",
       "      <td>3051.0</td>\n",
       "      <td>1000.0</td>\n",
       "      <td>1.7199</td>\n",
       "      <td>&lt;1H OCEAN</td>\n",
       "      <td>175000.0</td>\n",
       "    </tr>\n",
       "    <tr>\n",
       "      <th>4</th>\n",
       "      <td>-119.81</td>\n",
       "      <td>36.73</td>\n",
       "      <td>50.0</td>\n",
       "      <td>772.0</td>\n",
       "      <td>194.0</td>\n",
       "      <td>606.0</td>\n",
       "      <td>167.0</td>\n",
       "      <td>2.2206</td>\n",
       "      <td>INLAND</td>\n",
       "      <td>59200.0</td>\n",
       "    </tr>\n",
       "  </tbody>\n",
       "</table>\n",
       "</div>"
      ],
      "text/plain": [
       "   longitude  latitude  housing_median_age  total_rooms  total_bedrooms  \\\n",
       "0    -119.79     36.73                52.0        112.0            28.0   \n",
       "1    -122.21     37.77                43.0       1017.0           328.0   \n",
       "2    -118.04     33.87                17.0       2358.0           396.0   \n",
       "3    -118.28     34.06                17.0       2518.0          1196.0   \n",
       "4    -119.81     36.73                50.0        772.0           194.0   \n",
       "\n",
       "   population  households  median_income ocean_proximity  median_house_value  \n",
       "0       193.0        40.0         1.9750          INLAND             47500.0  \n",
       "1       836.0       277.0         2.2604        NEAR BAY            100000.0  \n",
       "2      1387.0       364.0         6.2990       <1H OCEAN            285800.0  \n",
       "3      3051.0      1000.0         1.7199       <1H OCEAN            175000.0  \n",
       "4       606.0       167.0         2.2206          INLAND             59200.0  "
      ]
     },
     "execution_count": 3,
     "metadata": {},
     "output_type": "execute_result"
    }
   ],
   "source": [
    "house = pd.read_csv('data_california_house.csv')\n",
    "house.head()"
   ]
  },
  {
   "cell_type": "markdown",
   "metadata": {},
   "source": [
    "#### *Check Tipe Kolom pada Dataset*"
   ]
  },
  {
   "cell_type": "code",
   "execution_count": 4,
   "metadata": {},
   "outputs": [
    {
     "name": "stdout",
     "output_type": "stream",
     "text": [
      "<class 'pandas.core.frame.DataFrame'>\n",
      "RangeIndex: 14448 entries, 0 to 14447\n",
      "Data columns (total 10 columns):\n",
      " #   Column              Non-Null Count  Dtype  \n",
      "---  ------              --------------  -----  \n",
      " 0   longitude           14448 non-null  float64\n",
      " 1   latitude            14448 non-null  float64\n",
      " 2   housing_median_age  14448 non-null  float64\n",
      " 3   total_rooms         14448 non-null  float64\n",
      " 4   total_bedrooms      14311 non-null  float64\n",
      " 5   population          14448 non-null  float64\n",
      " 6   households          14448 non-null  float64\n",
      " 7   median_income       14448 non-null  float64\n",
      " 8   ocean_proximity     14448 non-null  object \n",
      " 9   median_house_value  14448 non-null  float64\n",
      "dtypes: float64(9), object(1)\n",
      "memory usage: 1.1+ MB\n"
     ]
    }
   ],
   "source": [
    "house.info()"
   ]
  },
  {
   "cell_type": "markdown",
   "metadata": {},
   "source": [
    "Hasil diatas menunjukkan bahwa dataset 'California House Pricing' memiliki 10 total kolom, 9 diantaranya adalah kolom numerikal. Sedangkan kolom 'ocean proximity' merupakan kolom kategorikal. "
   ]
  },
  {
   "cell_type": "markdown",
   "metadata": {},
   "source": [
    "### **Data Cleaning**"
   ]
  },
  {
   "cell_type": "markdown",
   "metadata": {},
   "source": [
    "Pada tahap data cleaning, akan dilakukan beberapa tahapan yang bertujuan agar data yang ada siap dipakai untuk analisa dan pembuatan model *Machine Learning* . Tahapan yang akan dilakukan adalah : \n",
    "- Drop Duplicate Row.\n",
    "- Handling Missing Value.\n",
    "- Anomaly Detection.\n",
    "- Clear Data Outlier."
   ]
  },
  {
   "cell_type": "markdown",
   "metadata": {},
   "source": [
    "#### *Drop Duplicate Row*"
   ]
  },
  {
   "cell_type": "code",
   "execution_count": 5,
   "metadata": {},
   "outputs": [
    {
     "name": "stdout",
     "output_type": "stream",
     "text": [
      " Jumlah duplicate row : 0\n"
     ]
    }
   ],
   "source": [
    "print(f' Jumlah duplicate row : {house.duplicated().sum()}')"
   ]
  },
  {
   "cell_type": "markdown",
   "metadata": {},
   "source": [
    "Karena tidak ada duplicate row, maka tidak ada data yang dihapus pada proses ini"
   ]
  },
  {
   "cell_type": "markdown",
   "metadata": {},
   "source": [
    "#### *Handling Missing Value*"
   ]
  },
  {
   "cell_type": "markdown",
   "metadata": {},
   "source": [
    "##### *Check Jumlah Missing Value*"
   ]
  },
  {
   "cell_type": "code",
   "execution_count": 6,
   "metadata": {},
   "outputs": [
    {
     "data": {
      "text/plain": [
       "longitude               0\n",
       "latitude                0\n",
       "housing_median_age      0\n",
       "total_rooms             0\n",
       "total_bedrooms        137\n",
       "population              0\n",
       "households              0\n",
       "median_income           0\n",
       "ocean_proximity         0\n",
       "median_house_value      0\n",
       "dtype: int64"
      ]
     },
     "execution_count": 6,
     "metadata": {},
     "output_type": "execute_result"
    }
   ],
   "source": [
    "house.isna().sum()"
   ]
  },
  {
   "cell_type": "markdown",
   "metadata": {},
   "source": [
    "Terdapat 137 baris yang memiliki missing value pada kolom 'total_bedrooms'. Perlu dicek terlebih dahulu presentase baris missing value agar bisa ditentukan cara yang tepat untuk menangani missing value tersebut."
   ]
  },
  {
   "cell_type": "code",
   "execution_count": 7,
   "metadata": {},
   "outputs": [
    {
     "data": {
      "text/plain": [
       "longitude             0.000000\n",
       "latitude              0.000000\n",
       "housing_median_age    0.000000\n",
       "total_rooms           0.000000\n",
       "total_bedrooms        0.948228\n",
       "population            0.000000\n",
       "households            0.000000\n",
       "median_income         0.000000\n",
       "ocean_proximity       0.000000\n",
       "median_house_value    0.000000\n",
       "dtype: float64"
      ]
     },
     "execution_count": 7,
     "metadata": {},
     "output_type": "execute_result"
    }
   ],
   "source": [
    "house.isnull().sum() * 100 / len(house)"
   ]
  },
  {
   "cell_type": "markdown",
   "metadata": {},
   "source": [
    "Presentase missing value pada kolom 'total_bedrooms' adalah 0.94%. Maka penanganannya adalah dengan mengisi baris yang memiliki missing value dengan mean atau median dari kolom tersebut. Jika data terdistribusi dengan normal, maka akan diisi dengan mean. Sedangkan median akan digunakan jika data tidak terdistribusi dengan normal."
   ]
  },
  {
   "cell_type": "markdown",
   "metadata": {},
   "source": [
    "##### *Menentukan Treatment yang Sesuai*"
   ]
  },
  {
   "cell_type": "markdown",
   "metadata": {},
   "source": [
    "Create dataframe copy untuk uji normalitas kolom 'total_bedrooms' tanpa missing value"
   ]
  },
  {
   "cell_type": "code",
   "execution_count": 8,
   "metadata": {},
   "outputs": [],
   "source": [
    "copy_house = house.copy()\n",
    "copy_house.dropna(inplace=True)"
   ]
  },
  {
   "cell_type": "markdown",
   "metadata": {},
   "source": [
    "check missing value pada dataframe 'copy_house'"
   ]
  },
  {
   "cell_type": "code",
   "execution_count": 9,
   "metadata": {},
   "outputs": [
    {
     "data": {
      "text/plain": [
       "longitude             0\n",
       "latitude              0\n",
       "housing_median_age    0\n",
       "total_rooms           0\n",
       "total_bedrooms        0\n",
       "population            0\n",
       "households            0\n",
       "median_income         0\n",
       "ocean_proximity       0\n",
       "median_house_value    0\n",
       "dtype: int64"
      ]
     },
     "execution_count": 9,
     "metadata": {},
     "output_type": "execute_result"
    }
   ],
   "source": [
    "copy_house.isna().sum()"
   ]
  },
  {
   "cell_type": "markdown",
   "metadata": {},
   "source": [
    "Plot persebaran data 'total_bedrooms' tanpa missing value"
   ]
  },
  {
   "cell_type": "code",
   "execution_count": 10,
   "metadata": {},
   "outputs": [
    {
     "data": {
      "image/png": "[encoded data removed]",
      "text/plain": [
       "<Figure size 640x480 with 1 Axes>"
      ]
     },
     "metadata": {},
     "output_type": "display_data"
    }
   ],
   "source": [
    "plt.hist(copy_house['total_bedrooms'], edgecolor='black', bins=20)\n",
    "plt.title(\"Persebaran Data 'total_bedrooms'\")\n",
    "plt.show()"
   ]
  },
  {
   "cell_type": "markdown",
   "metadata": {},
   "source": [
    "Uji normalitas pada kolom 'total_bedrooms' tanpa missing value"
   ]
  },
  {
   "cell_type": "code",
   "execution_count": 11,
   "metadata": {},
   "outputs": [
    {
     "name": "stderr",
     "output_type": "stream",
     "text": [
      "c:\\Users\\kenta\\AppData\\Local\\Programs\\Python\\Python311\\Lib\\site-packages\\scipy\\stats\\_morestats.py:1816: UserWarning: p-value may not be accurate for N > 5000.\n",
      "  warnings.warn(\"p-value may not be accurate for N > 5000.\")\n"
     ]
    },
    {
     "data": {
      "text/plain": [
       "ShapiroResult(statistic=0.7353052496910095, pvalue=0.0)"
      ]
     },
     "execution_count": 11,
     "metadata": {},
     "output_type": "execute_result"
    }
   ],
   "source": [
    "shapiro(copy_house['total_bedrooms'])"
   ]
  },
  {
   "cell_type": "markdown",
   "metadata": {},
   "source": [
    "Berdasarkan plot grafik persebaran data yang tidak menunjukkan 'bell-shape' dan uji normalitas menggunakan Shapiro-Wilk test dengan hasil pvalue dibawah 0.05. Dapat disimpulkan bahwa kolom 'total_bedrooms' **tidak terdistribusi dengan normal**. Maka missing value pada kolom 'total_bedrooms' akan diisi dengan nilai **median** dari kolom tersebut."
   ]
  },
  {
   "cell_type": "markdown",
   "metadata": {},
   "source": [
    "##### *Input Nilai pada Missing Row*"
   ]
  },
  {
   "cell_type": "markdown",
   "metadata": {},
   "source": [
    "*Input Nilai Menggunakan Median pada kolom 'total_bedrooms\"*"
   ]
  },
  {
   "cell_type": "code",
   "execution_count": 12,
   "metadata": {},
   "outputs": [],
   "source": [
    "house['total_bedrooms'].fillna(house['total_bedrooms'].median(), inplace=True)"
   ]
  },
  {
   "cell_type": "markdown",
   "metadata": {},
   "source": [
    "*Check Jumlah Missing Value Setelah Input Nilai Median*"
   ]
  },
  {
   "cell_type": "code",
   "execution_count": 13,
   "metadata": {},
   "outputs": [
    {
     "data": {
      "text/plain": [
       "longitude             0\n",
       "latitude              0\n",
       "housing_median_age    0\n",
       "total_rooms           0\n",
       "total_bedrooms        0\n",
       "population            0\n",
       "households            0\n",
       "median_income         0\n",
       "ocean_proximity       0\n",
       "median_house_value    0\n",
       "dtype: int64"
      ]
     },
     "execution_count": 13,
     "metadata": {},
     "output_type": "execute_result"
    }
   ],
   "source": [
    "house.isna().sum()"
   ]
  },
  {
   "cell_type": "markdown",
   "metadata": {},
   "source": [
    "#### *Anomaly Detection*"
   ]
  },
  {
   "cell_type": "markdown",
   "metadata": {},
   "source": [
    "##### *Check Kolom Latitude dan Longitude*"
   ]
  },
  {
   "cell_type": "code",
   "execution_count": 14,
   "metadata": {},
   "outputs": [
    {
     "data": {
      "image/png": "[encoded data removed]",
      "text/plain": [
       "<Figure size 400x300 with 1 Axes>"
      ]
     },
     "metadata": {},
     "output_type": "display_data"
    }
   ],
   "source": [
    "plt.figure(figsize=(4, 3))\n",
    "plt.title('Persebaran Data Latitude dan Longitude')\n",
    "sns.scatterplot(data = house,\n",
    "                x = 'longitude',\n",
    "                y = 'latitude')\n",
    "plt.show()"
   ]
  },
  {
   "cell_type": "markdown",
   "metadata": {},
   "source": [
    "<img src=\"https://worldmapblank.com/wp-content/uploads/2020/10/Labeled-Map-of-California-State.jpg\" alt=\"drawing\" width=\"400\"/>"
   ]
  },
  {
   "cell_type": "markdown",
   "metadata": {},
   "source": [
    "Karena plot dari data latitude dan longitude cukup mirip dengan map California, maka saya anggap tidak ada anomaly pada kolom latitude dan longitude"
   ]
  },
  {
   "cell_type": "markdown",
   "metadata": {},
   "source": [
    "##### *Check Kolom housing_median_age*"
   ]
  },
  {
   "cell_type": "markdown",
   "metadata": {},
   "source": [
    "Pada kolom 'housing_median_age', nilai yang saya anggap sebagai anomaly adalah nilai yang kurang dari 0 (negatif). Nilai negatif saya anggap sebagai anomaly karena tidak mungkin umur dari sebuah rumah nilainya dibawah 0."
   ]
  },
  {
   "cell_type": "code",
   "execution_count": 15,
   "metadata": {},
   "outputs": [
    {
     "data": {
      "text/html": [
       "<div>\n",
       "<style scoped>\n",
       "    .dataframe tbody tr th:only-of-type {\n",
       "        vertical-align: middle;\n",
       "    }\n",
       "\n",
       "    .dataframe tbody tr th {\n",
       "        vertical-align: top;\n",
       "    }\n",
       "\n",
       "    .dataframe thead th {\n",
       "        text-align: right;\n",
       "    }\n",
       "</style>\n",
       "<table border=\"1\" class=\"dataframe\">\n",
       "  <thead>\n",
       "    <tr style=\"text-align: right;\">\n",
       "      <th></th>\n",
       "      <th>housing_median_age</th>\n",
       "      <th>Value Count</th>\n",
       "    </tr>\n",
       "  </thead>\n",
       "  <tbody>\n",
       "    <tr>\n",
       "      <th>51</th>\n",
       "      <td>1.0</td>\n",
       "      <td>2</td>\n",
       "    </tr>\n",
       "    <tr>\n",
       "      <th>49</th>\n",
       "      <td>2.0</td>\n",
       "      <td>37</td>\n",
       "    </tr>\n",
       "    <tr>\n",
       "      <th>48</th>\n",
       "      <td>3.0</td>\n",
       "      <td>45</td>\n",
       "    </tr>\n",
       "    <tr>\n",
       "      <th>41</th>\n",
       "      <td>4.0</td>\n",
       "      <td>139</td>\n",
       "    </tr>\n",
       "    <tr>\n",
       "      <th>35</th>\n",
       "      <td>5.0</td>\n",
       "      <td>184</td>\n",
       "    </tr>\n",
       "    <tr>\n",
       "      <th>43</th>\n",
       "      <td>6.0</td>\n",
       "      <td>117</td>\n",
       "    </tr>\n",
       "    <tr>\n",
       "      <th>44</th>\n",
       "      <td>7.0</td>\n",
       "      <td>117</td>\n",
       "    </tr>\n",
       "    <tr>\n",
       "      <th>39</th>\n",
       "      <td>8.0</td>\n",
       "      <td>145</td>\n",
       "    </tr>\n",
       "    <tr>\n",
       "      <th>40</th>\n",
       "      <td>9.0</td>\n",
       "      <td>144</td>\n",
       "    </tr>\n",
       "    <tr>\n",
       "      <th>34</th>\n",
       "      <td>10.0</td>\n",
       "      <td>186</td>\n",
       "    </tr>\n",
       "    <tr>\n",
       "      <th>36</th>\n",
       "      <td>11.0</td>\n",
       "      <td>182</td>\n",
       "    </tr>\n",
       "    <tr>\n",
       "      <th>38</th>\n",
       "      <td>12.0</td>\n",
       "      <td>153</td>\n",
       "    </tr>\n",
       "    <tr>\n",
       "      <th>31</th>\n",
       "      <td>13.0</td>\n",
       "      <td>217</td>\n",
       "    </tr>\n",
       "    <tr>\n",
       "      <th>23</th>\n",
       "      <td>14.0</td>\n",
       "      <td>293</td>\n",
       "    </tr>\n",
       "    <tr>\n",
       "      <th>14</th>\n",
       "      <td>15.0</td>\n",
       "      <td>342</td>\n",
       "    </tr>\n",
       "    <tr>\n",
       "      <th>3</th>\n",
       "      <td>16.0</td>\n",
       "      <td>523</td>\n",
       "    </tr>\n",
       "    <tr>\n",
       "      <th>4</th>\n",
       "      <td>17.0</td>\n",
       "      <td>502</td>\n",
       "    </tr>\n",
       "    <tr>\n",
       "      <th>8</th>\n",
       "      <td>18.0</td>\n",
       "      <td>402</td>\n",
       "    </tr>\n",
       "    <tr>\n",
       "      <th>12</th>\n",
       "      <td>19.0</td>\n",
       "      <td>359</td>\n",
       "    </tr>\n",
       "    <tr>\n",
       "      <th>19</th>\n",
       "      <td>20.0</td>\n",
       "      <td>321</td>\n",
       "    </tr>\n",
       "    <tr>\n",
       "      <th>21</th>\n",
       "      <td>21.0</td>\n",
       "      <td>313</td>\n",
       "    </tr>\n",
       "    <tr>\n",
       "      <th>25</th>\n",
       "      <td>22.0</td>\n",
       "      <td>276</td>\n",
       "    </tr>\n",
       "    <tr>\n",
       "      <th>22</th>\n",
       "      <td>23.0</td>\n",
       "      <td>305</td>\n",
       "    </tr>\n",
       "    <tr>\n",
       "      <th>15</th>\n",
       "      <td>24.0</td>\n",
       "      <td>339</td>\n",
       "    </tr>\n",
       "    <tr>\n",
       "      <th>10</th>\n",
       "      <td>25.0</td>\n",
       "      <td>395</td>\n",
       "    </tr>\n",
       "    <tr>\n",
       "      <th>7</th>\n",
       "      <td>26.0</td>\n",
       "      <td>428</td>\n",
       "    </tr>\n",
       "    <tr>\n",
       "      <th>16</th>\n",
       "      <td>27.0</td>\n",
       "      <td>338</td>\n",
       "    </tr>\n",
       "    <tr>\n",
       "      <th>13</th>\n",
       "      <td>28.0</td>\n",
       "      <td>352</td>\n",
       "    </tr>\n",
       "    <tr>\n",
       "      <th>18</th>\n",
       "      <td>29.0</td>\n",
       "      <td>324</td>\n",
       "    </tr>\n",
       "    <tr>\n",
       "      <th>17</th>\n",
       "      <td>30.0</td>\n",
       "      <td>338</td>\n",
       "    </tr>\n",
       "    <tr>\n",
       "      <th>20</th>\n",
       "      <td>31.0</td>\n",
       "      <td>314</td>\n",
       "    </tr>\n",
       "    <tr>\n",
       "      <th>9</th>\n",
       "      <td>32.0</td>\n",
       "      <td>397</td>\n",
       "    </tr>\n",
       "    <tr>\n",
       "      <th>6</th>\n",
       "      <td>33.0</td>\n",
       "      <td>432</td>\n",
       "    </tr>\n",
       "    <tr>\n",
       "      <th>5</th>\n",
       "      <td>34.0</td>\n",
       "      <td>496</td>\n",
       "    </tr>\n",
       "    <tr>\n",
       "      <th>2</th>\n",
       "      <td>35.0</td>\n",
       "      <td>573</td>\n",
       "    </tr>\n",
       "    <tr>\n",
       "      <th>1</th>\n",
       "      <td>36.0</td>\n",
       "      <td>585</td>\n",
       "    </tr>\n",
       "    <tr>\n",
       "      <th>11</th>\n",
       "      <td>37.0</td>\n",
       "      <td>375</td>\n",
       "    </tr>\n",
       "    <tr>\n",
       "      <th>24</th>\n",
       "      <td>38.0</td>\n",
       "      <td>277</td>\n",
       "    </tr>\n",
       "    <tr>\n",
       "      <th>28</th>\n",
       "      <td>39.0</td>\n",
       "      <td>247</td>\n",
       "    </tr>\n",
       "    <tr>\n",
       "      <th>32</th>\n",
       "      <td>40.0</td>\n",
       "      <td>211</td>\n",
       "    </tr>\n",
       "    <tr>\n",
       "      <th>30</th>\n",
       "      <td>41.0</td>\n",
       "      <td>221</td>\n",
       "    </tr>\n",
       "    <tr>\n",
       "      <th>26</th>\n",
       "      <td>42.0</td>\n",
       "      <td>270</td>\n",
       "    </tr>\n",
       "    <tr>\n",
       "      <th>29</th>\n",
       "      <td>43.0</td>\n",
       "      <td>244</td>\n",
       "    </tr>\n",
       "    <tr>\n",
       "      <th>27</th>\n",
       "      <td>44.0</td>\n",
       "      <td>256</td>\n",
       "    </tr>\n",
       "    <tr>\n",
       "      <th>33</th>\n",
       "      <td>45.0</td>\n",
       "      <td>189</td>\n",
       "    </tr>\n",
       "    <tr>\n",
       "      <th>37</th>\n",
       "      <td>46.0</td>\n",
       "      <td>176</td>\n",
       "    </tr>\n",
       "    <tr>\n",
       "      <th>42</th>\n",
       "      <td>47.0</td>\n",
       "      <td>132</td>\n",
       "    </tr>\n",
       "    <tr>\n",
       "      <th>45</th>\n",
       "      <td>48.0</td>\n",
       "      <td>111</td>\n",
       "    </tr>\n",
       "    <tr>\n",
       "      <th>47</th>\n",
       "      <td>49.0</td>\n",
       "      <td>93</td>\n",
       "    </tr>\n",
       "    <tr>\n",
       "      <th>46</th>\n",
       "      <td>50.0</td>\n",
       "      <td>99</td>\n",
       "    </tr>\n",
       "    <tr>\n",
       "      <th>50</th>\n",
       "      <td>51.0</td>\n",
       "      <td>36</td>\n",
       "    </tr>\n",
       "    <tr>\n",
       "      <th>0</th>\n",
       "      <td>52.0</td>\n",
       "      <td>896</td>\n",
       "    </tr>\n",
       "  </tbody>\n",
       "</table>\n",
       "</div>"
      ],
      "text/plain": [
       "    housing_median_age  Value Count\n",
       "51                 1.0            2\n",
       "49                 2.0           37\n",
       "48                 3.0           45\n",
       "41                 4.0          139\n",
       "35                 5.0          184\n",
       "43                 6.0          117\n",
       "44                 7.0          117\n",
       "39                 8.0          145\n",
       "40                 9.0          144\n",
       "34                10.0          186\n",
       "36                11.0          182\n",
       "38                12.0          153\n",
       "31                13.0          217\n",
       "23                14.0          293\n",
       "14                15.0          342\n",
       "3                 16.0          523\n",
       "4                 17.0          502\n",
       "8                 18.0          402\n",
       "12                19.0          359\n",
       "19                20.0          321\n",
       "21                21.0          313\n",
       "25                22.0          276\n",
       "22                23.0          305\n",
       "15                24.0          339\n",
       "10                25.0          395\n",
       "7                 26.0          428\n",
       "16                27.0          338\n",
       "13                28.0          352\n",
       "18                29.0          324\n",
       "17                30.0          338\n",
       "20                31.0          314\n",
       "9                 32.0          397\n",
       "6                 33.0          432\n",
       "5                 34.0          496\n",
       "2                 35.0          573\n",
       "1                 36.0          585\n",
       "11                37.0          375\n",
       "24                38.0          277\n",
       "28                39.0          247\n",
       "32                40.0          211\n",
       "30                41.0          221\n",
       "26                42.0          270\n",
       "29                43.0          244\n",
       "27                44.0          256\n",
       "33                45.0          189\n",
       "37                46.0          176\n",
       "42                47.0          132\n",
       "45                48.0          111\n",
       "47                49.0           93\n",
       "46                50.0           99\n",
       "50                51.0           36\n",
       "0                 52.0          896"
      ]
     },
     "execution_count": 15,
     "metadata": {},
     "output_type": "execute_result"
    }
   ],
   "source": [
    "house['housing_median_age'].value_counts().to_frame().reset_index().rename(columns={\"index\": \"housing_median_age\", \"housing_median_age\": \"Value Count\"}).sort_values(by='housing_median_age')\n",
    "#No anomaly"
   ]
  },
  {
   "cell_type": "markdown",
   "metadata": {},
   "source": [
    "##### *Check Kolom total_rooms*"
   ]
  },
  {
   "cell_type": "markdown",
   "metadata": {},
   "source": [
    "Pada kolom 'total_rooms', nilai yang saya anggap sebagai anomaly adalah nilai yang kurang dari 0 (negatif). Nilai negatif saya anggap sebagai anomaly karena tidak mungkin jumlah ruangan pada sebuah rumah nilainya dibawah 0."
   ]
  },
  {
   "cell_type": "code",
   "execution_count": 16,
   "metadata": {},
   "outputs": [
    {
     "data": {
      "text/html": [
       "<div>\n",
       "<style scoped>\n",
       "    .dataframe tbody tr th:only-of-type {\n",
       "        vertical-align: middle;\n",
       "    }\n",
       "\n",
       "    .dataframe tbody tr th {\n",
       "        vertical-align: top;\n",
       "    }\n",
       "\n",
       "    .dataframe thead th {\n",
       "        text-align: right;\n",
       "    }\n",
       "</style>\n",
       "<table border=\"1\" class=\"dataframe\">\n",
       "  <thead>\n",
       "    <tr style=\"text-align: right;\">\n",
       "      <th></th>\n",
       "      <th>total_rooms</th>\n",
       "      <th>Value Count</th>\n",
       "    </tr>\n",
       "  </thead>\n",
       "  <tbody>\n",
       "    <tr>\n",
       "      <th>4434</th>\n",
       "      <td>2.0</td>\n",
       "      <td>1</td>\n",
       "    </tr>\n",
       "    <tr>\n",
       "      <th>3928</th>\n",
       "      <td>6.0</td>\n",
       "      <td>1</td>\n",
       "    </tr>\n",
       "    <tr>\n",
       "      <th>3225</th>\n",
       "      <td>8.0</td>\n",
       "      <td>1</td>\n",
       "    </tr>\n",
       "    <tr>\n",
       "      <th>4633</th>\n",
       "      <td>11.0</td>\n",
       "      <td>1</td>\n",
       "    </tr>\n",
       "    <tr>\n",
       "      <th>3154</th>\n",
       "      <td>12.0</td>\n",
       "      <td>1</td>\n",
       "    </tr>\n",
       "    <tr>\n",
       "      <th>...</th>\n",
       "      <td>...</td>\n",
       "      <td>...</td>\n",
       "    </tr>\n",
       "    <tr>\n",
       "      <th>3709</th>\n",
       "      <td>30401.0</td>\n",
       "      <td>1</td>\n",
       "    </tr>\n",
       "    <tr>\n",
       "      <th>3342</th>\n",
       "      <td>30405.0</td>\n",
       "      <td>1</td>\n",
       "    </tr>\n",
       "    <tr>\n",
       "      <th>3573</th>\n",
       "      <td>30450.0</td>\n",
       "      <td>1</td>\n",
       "    </tr>\n",
       "    <tr>\n",
       "      <th>4827</th>\n",
       "      <td>32054.0</td>\n",
       "      <td>1</td>\n",
       "    </tr>\n",
       "    <tr>\n",
       "      <th>4933</th>\n",
       "      <td>32627.0</td>\n",
       "      <td>1</td>\n",
       "    </tr>\n",
       "  </tbody>\n",
       "</table>\n",
       "<p>5227 rows × 2 columns</p>\n",
       "</div>"
      ],
      "text/plain": [
       "      total_rooms  Value Count\n",
       "4434          2.0            1\n",
       "3928          6.0            1\n",
       "3225          8.0            1\n",
       "4633         11.0            1\n",
       "3154         12.0            1\n",
       "...           ...          ...\n",
       "3709      30401.0            1\n",
       "3342      30405.0            1\n",
       "3573      30450.0            1\n",
       "4827      32054.0            1\n",
       "4933      32627.0            1\n",
       "\n",
       "[5227 rows x 2 columns]"
      ]
     },
     "execution_count": 16,
     "metadata": {},
     "output_type": "execute_result"
    }
   ],
   "source": [
    "house['total_rooms'].value_counts().to_frame().reset_index().rename(columns={\"index\": \"total_rooms\", \"total_rooms\": \"Value Count\"}).sort_values(by='total_rooms')\n",
    "#No anomaly"
   ]
  },
  {
   "cell_type": "markdown",
   "metadata": {},
   "source": [
    "##### *Check Kolom total_bedrooms*"
   ]
  },
  {
   "cell_type": "markdown",
   "metadata": {},
   "source": [
    "Pada kolom 'total_bedrooms', nilai yang saya anggap sebagai anomaly adalah nilai yang kurang dari 0 (negatif). Nilai negatif saya anggap sebagai anomaly karena tidak mungkin jumlah kamar tidur pada sebuah rumah nilainya dibawah 0."
   ]
  },
  {
   "cell_type": "code",
   "execution_count": 17,
   "metadata": {},
   "outputs": [
    {
     "data": {
      "text/html": [
       "<div>\n",
       "<style scoped>\n",
       "    .dataframe tbody tr th:only-of-type {\n",
       "        vertical-align: middle;\n",
       "    }\n",
       "\n",
       "    .dataframe tbody tr th {\n",
       "        vertical-align: top;\n",
       "    }\n",
       "\n",
       "    .dataframe thead th {\n",
       "        text-align: right;\n",
       "    }\n",
       "</style>\n",
       "<table border=\"1\" class=\"dataframe\">\n",
       "  <thead>\n",
       "    <tr style=\"text-align: right;\">\n",
       "      <th></th>\n",
       "      <th>total_bedrooms</th>\n",
       "      <th>Value Count</th>\n",
       "    </tr>\n",
       "  </thead>\n",
       "  <tbody>\n",
       "    <tr>\n",
       "      <th>1374</th>\n",
       "      <td>1.0</td>\n",
       "      <td>1</td>\n",
       "    </tr>\n",
       "    <tr>\n",
       "      <th>1210</th>\n",
       "      <td>2.0</td>\n",
       "      <td>2</td>\n",
       "    </tr>\n",
       "    <tr>\n",
       "      <th>881</th>\n",
       "      <td>3.0</td>\n",
       "      <td>4</td>\n",
       "    </tr>\n",
       "    <tr>\n",
       "      <th>756</th>\n",
       "      <td>4.0</td>\n",
       "      <td>6</td>\n",
       "    </tr>\n",
       "    <tr>\n",
       "      <th>926</th>\n",
       "      <td>5.0</td>\n",
       "      <td>4</td>\n",
       "    </tr>\n",
       "    <tr>\n",
       "      <th>...</th>\n",
       "      <td>...</td>\n",
       "      <td>...</td>\n",
       "    </tr>\n",
       "    <tr>\n",
       "      <th>1389</th>\n",
       "      <td>4957.0</td>\n",
       "      <td>1</td>\n",
       "    </tr>\n",
       "    <tr>\n",
       "      <th>1379</th>\n",
       "      <td>5027.0</td>\n",
       "      <td>1</td>\n",
       "    </tr>\n",
       "    <tr>\n",
       "      <th>1400</th>\n",
       "      <td>5033.0</td>\n",
       "      <td>1</td>\n",
       "    </tr>\n",
       "    <tr>\n",
       "      <th>1679</th>\n",
       "      <td>5290.0</td>\n",
       "      <td>1</td>\n",
       "    </tr>\n",
       "    <tr>\n",
       "      <th>1595</th>\n",
       "      <td>6445.0</td>\n",
       "      <td>1</td>\n",
       "    </tr>\n",
       "  </tbody>\n",
       "</table>\n",
       "<p>1748 rows × 2 columns</p>\n",
       "</div>"
      ],
      "text/plain": [
       "      total_bedrooms  Value Count\n",
       "1374             1.0            1\n",
       "1210             2.0            2\n",
       "881              3.0            4\n",
       "756              4.0            6\n",
       "926              5.0            4\n",
       "...              ...          ...\n",
       "1389          4957.0            1\n",
       "1379          5027.0            1\n",
       "1400          5033.0            1\n",
       "1679          5290.0            1\n",
       "1595          6445.0            1\n",
       "\n",
       "[1748 rows x 2 columns]"
      ]
     },
     "execution_count": 17,
     "metadata": {},
     "output_type": "execute_result"
    }
   ],
   "source": [
    "house['total_bedrooms'].value_counts().to_frame().reset_index().rename(columns={\"index\": \"total_bedrooms\", \"total_bedrooms\": \"Value Count\"}).sort_values(by='total_bedrooms')\n",
    "#No anomaly"
   ]
  },
  {
   "cell_type": "markdown",
   "metadata": {},
   "source": [
    "##### *Check Kolom population*"
   ]
  },
  {
   "cell_type": "markdown",
   "metadata": {},
   "source": [
    "Pada kolom 'population', nilai yang saya anggap sebagai anomaly adalah nilai yang kurang dari 0 (negatif). Nilai negatif saya anggap sebagai anomaly karena tidak mungkin jumlah penghuni pada sebuah blok perumahan nilainya dibawah 0."
   ]
  },
  {
   "cell_type": "code",
   "execution_count": 18,
   "metadata": {},
   "outputs": [
    {
     "data": {
      "text/html": [
       "<div>\n",
       "<style scoped>\n",
       "    .dataframe tbody tr th:only-of-type {\n",
       "        vertical-align: middle;\n",
       "    }\n",
       "\n",
       "    .dataframe tbody tr th {\n",
       "        vertical-align: top;\n",
       "    }\n",
       "\n",
       "    .dataframe thead th {\n",
       "        text-align: right;\n",
       "    }\n",
       "</style>\n",
       "<table border=\"1\" class=\"dataframe\">\n",
       "  <thead>\n",
       "    <tr style=\"text-align: right;\">\n",
       "      <th></th>\n",
       "      <th>population</th>\n",
       "      <th>Value Count</th>\n",
       "    </tr>\n",
       "  </thead>\n",
       "  <tbody>\n",
       "    <tr>\n",
       "      <th>3368</th>\n",
       "      <td>3.0</td>\n",
       "      <td>1</td>\n",
       "    </tr>\n",
       "    <tr>\n",
       "      <th>3072</th>\n",
       "      <td>5.0</td>\n",
       "      <td>1</td>\n",
       "    </tr>\n",
       "    <tr>\n",
       "      <th>3074</th>\n",
       "      <td>6.0</td>\n",
       "      <td>1</td>\n",
       "    </tr>\n",
       "    <tr>\n",
       "      <th>1903</th>\n",
       "      <td>8.0</td>\n",
       "      <td>3</td>\n",
       "    </tr>\n",
       "    <tr>\n",
       "      <th>2519</th>\n",
       "      <td>9.0</td>\n",
       "      <td>1</td>\n",
       "    </tr>\n",
       "    <tr>\n",
       "      <th>...</th>\n",
       "      <td>...</td>\n",
       "      <td>...</td>\n",
       "    </tr>\n",
       "    <tr>\n",
       "      <th>2589</th>\n",
       "      <td>13251.0</td>\n",
       "      <td>1</td>\n",
       "    </tr>\n",
       "    <tr>\n",
       "      <th>2639</th>\n",
       "      <td>15037.0</td>\n",
       "      <td>1</td>\n",
       "    </tr>\n",
       "    <tr>\n",
       "      <th>2433</th>\n",
       "      <td>15507.0</td>\n",
       "      <td>1</td>\n",
       "    </tr>\n",
       "    <tr>\n",
       "      <th>3185</th>\n",
       "      <td>28566.0</td>\n",
       "      <td>1</td>\n",
       "    </tr>\n",
       "    <tr>\n",
       "      <th>2842</th>\n",
       "      <td>35682.0</td>\n",
       "      <td>1</td>\n",
       "    </tr>\n",
       "  </tbody>\n",
       "</table>\n",
       "<p>3498 rows × 2 columns</p>\n",
       "</div>"
      ],
      "text/plain": [
       "      population  Value Count\n",
       "3368         3.0            1\n",
       "3072         5.0            1\n",
       "3074         6.0            1\n",
       "1903         8.0            3\n",
       "2519         9.0            1\n",
       "...          ...          ...\n",
       "2589     13251.0            1\n",
       "2639     15037.0            1\n",
       "2433     15507.0            1\n",
       "3185     28566.0            1\n",
       "2842     35682.0            1\n",
       "\n",
       "[3498 rows x 2 columns]"
      ]
     },
     "execution_count": 18,
     "metadata": {},
     "output_type": "execute_result"
    }
   ],
   "source": [
    "house['population'].value_counts().to_frame().reset_index().rename(columns={\"index\": \"population\", \"population\": \"Value Count\"}).sort_values(by='population')\n",
    "#No anomaly"
   ]
  },
  {
   "cell_type": "markdown",
   "metadata": {},
   "source": [
    "##### *Check Kolom households*"
   ]
  },
  {
   "cell_type": "markdown",
   "metadata": {},
   "source": [
    "Pada kolom 'households', nilai yang saya anggap sebagai anomaly adalah nilai yang kurang dari 0 (negatif). Nilai negatif saya anggap sebagai anomaly karena tidak mungkin jumlah kepala keluarga pada sebuah blok perumahan nilainya dibawah 0."
   ]
  },
  {
   "cell_type": "code",
   "execution_count": 19,
   "metadata": {},
   "outputs": [
    {
     "data": {
      "text/html": [
       "<div>\n",
       "<style scoped>\n",
       "    .dataframe tbody tr th:only-of-type {\n",
       "        vertical-align: middle;\n",
       "    }\n",
       "\n",
       "    .dataframe tbody tr th {\n",
       "        vertical-align: top;\n",
       "    }\n",
       "\n",
       "    .dataframe thead th {\n",
       "        text-align: right;\n",
       "    }\n",
       "</style>\n",
       "<table border=\"1\" class=\"dataframe\">\n",
       "  <thead>\n",
       "    <tr style=\"text-align: right;\">\n",
       "      <th></th>\n",
       "      <th>households</th>\n",
       "      <th>Value Count</th>\n",
       "    </tr>\n",
       "  </thead>\n",
       "  <tbody>\n",
       "    <tr>\n",
       "      <th>1276</th>\n",
       "      <td>1.0</td>\n",
       "      <td>1</td>\n",
       "    </tr>\n",
       "    <tr>\n",
       "      <th>928</th>\n",
       "      <td>2.0</td>\n",
       "      <td>3</td>\n",
       "    </tr>\n",
       "    <tr>\n",
       "      <th>922</th>\n",
       "      <td>3.0</td>\n",
       "      <td>3</td>\n",
       "    </tr>\n",
       "    <tr>\n",
       "      <th>1026</th>\n",
       "      <td>4.0</td>\n",
       "      <td>3</td>\n",
       "    </tr>\n",
       "    <tr>\n",
       "      <th>783</th>\n",
       "      <td>5.0</td>\n",
       "      <td>5</td>\n",
       "    </tr>\n",
       "    <tr>\n",
       "      <th>...</th>\n",
       "      <td>...</td>\n",
       "      <td>...</td>\n",
       "    </tr>\n",
       "    <tr>\n",
       "      <th>1296</th>\n",
       "      <td>4616.0</td>\n",
       "      <td>1</td>\n",
       "    </tr>\n",
       "    <tr>\n",
       "      <th>1363</th>\n",
       "      <td>4769.0</td>\n",
       "      <td>1</td>\n",
       "    </tr>\n",
       "    <tr>\n",
       "      <th>1297</th>\n",
       "      <td>4855.0</td>\n",
       "      <td>1</td>\n",
       "    </tr>\n",
       "    <tr>\n",
       "      <th>1564</th>\n",
       "      <td>5050.0</td>\n",
       "      <td>1</td>\n",
       "    </tr>\n",
       "    <tr>\n",
       "      <th>1450</th>\n",
       "      <td>6082.0</td>\n",
       "      <td>1</td>\n",
       "    </tr>\n",
       "  </tbody>\n",
       "</table>\n",
       "<p>1649 rows × 2 columns</p>\n",
       "</div>"
      ],
      "text/plain": [
       "      households  Value Count\n",
       "1276         1.0            1\n",
       "928          2.0            3\n",
       "922          3.0            3\n",
       "1026         4.0            3\n",
       "783          5.0            5\n",
       "...          ...          ...\n",
       "1296      4616.0            1\n",
       "1363      4769.0            1\n",
       "1297      4855.0            1\n",
       "1564      5050.0            1\n",
       "1450      6082.0            1\n",
       "\n",
       "[1649 rows x 2 columns]"
      ]
     },
     "execution_count": 19,
     "metadata": {},
     "output_type": "execute_result"
    }
   ],
   "source": [
    "house['households'].value_counts().to_frame().reset_index().rename(columns={\"index\": \"households\", \"households\": \"Value Count\"}).sort_values(by='households')\n",
    "#No anomaly"
   ]
  },
  {
   "cell_type": "markdown",
   "metadata": {},
   "source": [
    "##### *Check Kolom median_income*"
   ]
  },
  {
   "cell_type": "markdown",
   "metadata": {},
   "source": [
    "Pada kolom 'median_income', nilai yang saya anggap sebagai anomaly adalah nilai yang kurang dari 0 (negatif). Nilai negatif saya anggap sebagai anomaly karena tidak mungkin nilai median dari penghasilan setiap kepala keluarga pada suatu blok perumahan nilainya dibawah 0."
   ]
  },
  {
   "cell_type": "code",
   "execution_count": 20,
   "metadata": {},
   "outputs": [
    {
     "data": {
      "text/html": [
       "<div>\n",
       "<style scoped>\n",
       "    .dataframe tbody tr th:only-of-type {\n",
       "        vertical-align: middle;\n",
       "    }\n",
       "\n",
       "    .dataframe tbody tr th {\n",
       "        vertical-align: top;\n",
       "    }\n",
       "\n",
       "    .dataframe thead th {\n",
       "        text-align: right;\n",
       "    }\n",
       "</style>\n",
       "<table border=\"1\" class=\"dataframe\">\n",
       "  <thead>\n",
       "    <tr style=\"text-align: right;\">\n",
       "      <th></th>\n",
       "      <th>median_income</th>\n",
       "      <th>Value Count</th>\n",
       "    </tr>\n",
       "  </thead>\n",
       "  <tbody>\n",
       "    <tr>\n",
       "      <th>77</th>\n",
       "      <td>0.4999</td>\n",
       "      <td>8</td>\n",
       "    </tr>\n",
       "    <tr>\n",
       "      <th>105</th>\n",
       "      <td>0.5360</td>\n",
       "      <td>7</td>\n",
       "    </tr>\n",
       "    <tr>\n",
       "      <th>6700</th>\n",
       "      <td>0.5495</td>\n",
       "      <td>1</td>\n",
       "    </tr>\n",
       "    <tr>\n",
       "      <th>6040</th>\n",
       "      <td>0.6433</td>\n",
       "      <td>1</td>\n",
       "    </tr>\n",
       "    <tr>\n",
       "      <th>5846</th>\n",
       "      <td>0.6775</td>\n",
       "      <td>1</td>\n",
       "    </tr>\n",
       "    <tr>\n",
       "      <th>...</th>\n",
       "      <td>...</td>\n",
       "      <td>...</td>\n",
       "    </tr>\n",
       "    <tr>\n",
       "      <th>4180</th>\n",
       "      <td>13.9470</td>\n",
       "      <td>1</td>\n",
       "    </tr>\n",
       "    <tr>\n",
       "      <th>8924</th>\n",
       "      <td>14.2867</td>\n",
       "      <td>1</td>\n",
       "    </tr>\n",
       "    <tr>\n",
       "      <th>3806</th>\n",
       "      <td>14.9009</td>\n",
       "      <td>1</td>\n",
       "    </tr>\n",
       "    <tr>\n",
       "      <th>1032</th>\n",
       "      <td>15.0000</td>\n",
       "      <td>2</td>\n",
       "    </tr>\n",
       "    <tr>\n",
       "      <th>4</th>\n",
       "      <td>15.0001</td>\n",
       "      <td>31</td>\n",
       "    </tr>\n",
       "  </tbody>\n",
       "</table>\n",
       "<p>9797 rows × 2 columns</p>\n",
       "</div>"
      ],
      "text/plain": [
       "      median_income  Value Count\n",
       "77           0.4999            8\n",
       "105          0.5360            7\n",
       "6700         0.5495            1\n",
       "6040         0.6433            1\n",
       "5846         0.6775            1\n",
       "...             ...          ...\n",
       "4180        13.9470            1\n",
       "8924        14.2867            1\n",
       "3806        14.9009            1\n",
       "1032        15.0000            2\n",
       "4           15.0001           31\n",
       "\n",
       "[9797 rows x 2 columns]"
      ]
     },
     "execution_count": 20,
     "metadata": {},
     "output_type": "execute_result"
    }
   ],
   "source": [
    "house['median_income'].value_counts().to_frame().reset_index().rename(columns={'index': \"median_income\", \"median_income\": \"Value Count\"}).sort_values(by='median_income')\n",
    "#No anomaly"
   ]
  },
  {
   "cell_type": "markdown",
   "metadata": {},
   "source": [
    "##### *Check Kolom ocean_proximity*"
   ]
  },
  {
   "cell_type": "markdown",
   "metadata": {},
   "source": [
    "Pada kolom 'ocean_proximity', kategori yang saya anggap sebagai anomaly adalah kategori yang tidak menggambarkan seberapa jauh jarak suatu rumah ke laut."
   ]
  },
  {
   "cell_type": "code",
   "execution_count": 21,
   "metadata": {},
   "outputs": [
    {
     "data": {
      "text/plain": [
       "<1H OCEAN     6369\n",
       "INLAND        4576\n",
       "NEAR OCEAN    1879\n",
       "NEAR BAY      1622\n",
       "ISLAND           2\n",
       "Name: ocean_proximity, dtype: int64"
      ]
     },
     "execution_count": 21,
     "metadata": {},
     "output_type": "execute_result"
    }
   ],
   "source": [
    "house['ocean_proximity'].value_counts()\n",
    "#No anomaly"
   ]
  },
  {
   "cell_type": "markdown",
   "metadata": {},
   "source": [
    "##### *Check Kolom median_house_value*"
   ]
  },
  {
   "cell_type": "markdown",
   "metadata": {},
   "source": [
    "Pada kolom 'median_house_value', nilai yang saya anggap sebagai anomaly adalah nilai yang kurang dari 0 (negatif). Nilai negatif saya anggap sebagai anomaly karena tidak mungkin nilai median dari harga sebuah rumah pada blok perumahan nilainya dibawah 0."
   ]
  },
  {
   "cell_type": "code",
   "execution_count": 22,
   "metadata": {},
   "outputs": [
    {
     "data": {
      "text/html": [
       "<div>\n",
       "<style scoped>\n",
       "    .dataframe tbody tr th:only-of-type {\n",
       "        vertical-align: middle;\n",
       "    }\n",
       "\n",
       "    .dataframe tbody tr th {\n",
       "        vertical-align: top;\n",
       "    }\n",
       "\n",
       "    .dataframe thead th {\n",
       "        text-align: right;\n",
       "    }\n",
       "</style>\n",
       "<table border=\"1\" class=\"dataframe\">\n",
       "  <thead>\n",
       "    <tr style=\"text-align: right;\">\n",
       "      <th></th>\n",
       "      <th>median_house_value</th>\n",
       "      <th>Value Count</th>\n",
       "    </tr>\n",
       "  </thead>\n",
       "  <tbody>\n",
       "    <tr>\n",
       "      <th>1798</th>\n",
       "      <td>14999.0</td>\n",
       "      <td>3</td>\n",
       "    </tr>\n",
       "    <tr>\n",
       "      <th>3032</th>\n",
       "      <td>17500.0</td>\n",
       "      <td>1</td>\n",
       "    </tr>\n",
       "    <tr>\n",
       "      <th>2018</th>\n",
       "      <td>22500.0</td>\n",
       "      <td>3</td>\n",
       "    </tr>\n",
       "    <tr>\n",
       "      <th>2824</th>\n",
       "      <td>25000.0</td>\n",
       "      <td>1</td>\n",
       "    </tr>\n",
       "    <tr>\n",
       "      <th>3542</th>\n",
       "      <td>26600.0</td>\n",
       "      <td>1</td>\n",
       "    </tr>\n",
       "    <tr>\n",
       "      <th>...</th>\n",
       "      <td>...</td>\n",
       "      <td>...</td>\n",
       "    </tr>\n",
       "    <tr>\n",
       "      <th>3152</th>\n",
       "      <td>498700.0</td>\n",
       "      <td>1</td>\n",
       "    </tr>\n",
       "    <tr>\n",
       "      <th>2972</th>\n",
       "      <td>499000.0</td>\n",
       "      <td>1</td>\n",
       "    </tr>\n",
       "    <tr>\n",
       "      <th>3135</th>\n",
       "      <td>499100.0</td>\n",
       "      <td>1</td>\n",
       "    </tr>\n",
       "    <tr>\n",
       "      <th>29</th>\n",
       "      <td>500000.0</td>\n",
       "      <td>18</td>\n",
       "    </tr>\n",
       "    <tr>\n",
       "      <th>0</th>\n",
       "      <td>500001.0</td>\n",
       "      <td>678</td>\n",
       "    </tr>\n",
       "  </tbody>\n",
       "</table>\n",
       "<p>3548 rows × 2 columns</p>\n",
       "</div>"
      ],
      "text/plain": [
       "      median_house_value  Value Count\n",
       "1798             14999.0            3\n",
       "3032             17500.0            1\n",
       "2018             22500.0            3\n",
       "2824             25000.0            1\n",
       "3542             26600.0            1\n",
       "...                  ...          ...\n",
       "3152            498700.0            1\n",
       "2972            499000.0            1\n",
       "3135            499100.0            1\n",
       "29              500000.0           18\n",
       "0               500001.0          678\n",
       "\n",
       "[3548 rows x 2 columns]"
      ]
     },
     "execution_count": 22,
     "metadata": {},
     "output_type": "execute_result"
    }
   ],
   "source": [
    "house['median_house_value'].value_counts().to_frame().reset_index().rename(columns={'index': \"median_house_value\", \"median_house_value\": \"Value Count\"}).sort_values(by='median_house_value')\n",
    "#No anomaly"
   ]
  },
  {
   "cell_type": "markdown",
   "metadata": {},
   "source": [
    "#### *Clear Data Outlier*"
   ]
  },
  {
   "cell_type": "markdown",
   "metadata": {},
   "source": [
    "Outlier dapat mengacaukan pola pada sebuah data. Hal tersebut akan mempengaruhi hasil prediksi dari model Machine Learning. Oleh karena itu, outlier perlu untuk dihandle agar bisa dihasilkan model Machine Learning yang optimal."
   ]
  },
  {
   "cell_type": "markdown",
   "metadata": {},
   "source": [
    "##### *Plot Boxplot pada Setiap Kolom Numerikal di Dataset*"
   ]
  },
  {
   "cell_type": "code",
   "execution_count": 23,
   "metadata": {},
   "outputs": [
    {
     "data": {
      "image/png": "[encoded data removed]",
      "text/plain": [
       "<Figure size 1500x900 with 9 Axes>"
      ]
     },
     "metadata": {},
     "output_type": "display_data"
    }
   ],
   "source": [
    "# Numerical Features\n",
    "num_feature = [fea for fea in house.describe().columns]\n",
    "num_feature\n",
    "\n",
    "plt.figure(figsize=(15, 9))\n",
    "sns.set(style='whitegrid', palette='Set3')\n",
    "plotnumber = 1\n",
    "    \n",
    "for feature in num_feature:\n",
    "    ax = plt.subplot(4,3, plotnumber)\n",
    "    sns.boxplot(y=feature, data=house);\n",
    "    plt.title(feature, fontsize=12)\n",
    "    plt.tight_layout()\n",
    "    plotnumber += 1"
   ]
  },
  {
   "cell_type": "markdown",
   "metadata": {},
   "source": [
    "Ada banyak outlier pada hampir setiap kolom. Meskipun outlier sangat banyak, outlier pada suatu kolom banyak yang nilainya tidak jauh berbeda antara satu sama lain, sehingga masih membentuk suatu pola. Oleh karena itu, saya hanya akan membuang data outlier yang 'extreme'. Yaitu outlier yang nilainya jauh berbeda dengan outlier lainnya pada suatu kolom."
   ]
  },
  {
   "cell_type": "markdown",
   "metadata": {},
   "source": [
    "##### *Outlier pada Kolom 'housing_median_age'*"
   ]
  },
  {
   "cell_type": "code",
   "execution_count": 24,
   "metadata": {},
   "outputs": [
    {
     "data": {
      "image/png": "[encoded data removed]",
      "text/plain": [
       "<Figure size 500x350 with 1 Axes>"
      ]
     },
     "metadata": {},
     "output_type": "display_data"
    }
   ],
   "source": [
    "plt.figure(figsize=(5,3.5))\n",
    "sns.boxplot(house['housing_median_age'])\n",
    "plt.title('housing_median_age')\n",
    "plt.show()"
   ]
  },
  {
   "cell_type": "markdown",
   "metadata": {},
   "source": [
    "Tidak ada outlier pada kolom 'housing_median_age'. Oleh karena itu, tidak ada data yang didrop pada kolom ini"
   ]
  },
  {
   "cell_type": "markdown",
   "metadata": {},
   "source": [
    "##### *Outlier pada Kolom 'total_rooms'*"
   ]
  },
  {
   "cell_type": "code",
   "execution_count": 25,
   "metadata": {},
   "outputs": [
    {
     "data": {
      "image/png": "[encoded data removed]",
      "text/plain": [
       "<Figure size 500x350 with 1 Axes>"
      ]
     },
     "metadata": {},
     "output_type": "display_data"
    }
   ],
   "source": [
    "plt.figure(figsize=(5,3.5))\n",
    "sns.boxplot(house['total_rooms'])\n",
    "plt.title('total_rooms')\n",
    "plt.show()"
   ]
  },
  {
   "cell_type": "markdown",
   "metadata": {},
   "source": [
    "Ada beberapa outlier yang nilainya jauh dari outlier lainnya pada kolom 'total_rooms', sehingga bisa dikatakan sebagai 'extreme' outlier. Untuk melihat row yang memiliki nilai extreme outlier, saya melakukan sort pada kolom 'total_rooms' secara descending"
   ]
  },
  {
   "cell_type": "code",
   "execution_count": 26,
   "metadata": {},
   "outputs": [
    {
     "data": {
      "text/html": [
       "<div>\n",
       "<style scoped>\n",
       "    .dataframe tbody tr th:only-of-type {\n",
       "        vertical-align: middle;\n",
       "    }\n",
       "\n",
       "    .dataframe tbody tr th {\n",
       "        vertical-align: top;\n",
       "    }\n",
       "\n",
       "    .dataframe thead th {\n",
       "        text-align: right;\n",
       "    }\n",
       "</style>\n",
       "<table border=\"1\" class=\"dataframe\">\n",
       "  <thead>\n",
       "    <tr style=\"text-align: right;\">\n",
       "      <th></th>\n",
       "      <th>longitude</th>\n",
       "      <th>latitude</th>\n",
       "      <th>housing_median_age</th>\n",
       "      <th>total_rooms</th>\n",
       "      <th>total_bedrooms</th>\n",
       "      <th>population</th>\n",
       "      <th>households</th>\n",
       "      <th>median_income</th>\n",
       "      <th>ocean_proximity</th>\n",
       "      <th>median_house_value</th>\n",
       "    </tr>\n",
       "  </thead>\n",
       "  <tbody>\n",
       "    <tr>\n",
       "      <th>4124</th>\n",
       "      <td>-121.79</td>\n",
       "      <td>36.64</td>\n",
       "      <td>11.0</td>\n",
       "      <td>32627.0</td>\n",
       "      <td>6445.0</td>\n",
       "      <td>28566.0</td>\n",
       "      <td>6082.0</td>\n",
       "      <td>2.3087</td>\n",
       "      <td>&lt;1H OCEAN</td>\n",
       "      <td>118800.0</td>\n",
       "    </tr>\n",
       "    <tr>\n",
       "      <th>8061</th>\n",
       "      <td>-117.78</td>\n",
       "      <td>34.03</td>\n",
       "      <td>8.0</td>\n",
       "      <td>32054.0</td>\n",
       "      <td>5290.0</td>\n",
       "      <td>15507.0</td>\n",
       "      <td>5050.0</td>\n",
       "      <td>6.0191</td>\n",
       "      <td>&lt;1H OCEAN</td>\n",
       "      <td>253900.0</td>\n",
       "    </tr>\n",
       "    <tr>\n",
       "      <th>12960</th>\n",
       "      <td>-117.20</td>\n",
       "      <td>33.58</td>\n",
       "      <td>2.0</td>\n",
       "      <td>30450.0</td>\n",
       "      <td>5033.0</td>\n",
       "      <td>9419.0</td>\n",
       "      <td>3197.0</td>\n",
       "      <td>4.5936</td>\n",
       "      <td>&lt;1H OCEAN</td>\n",
       "      <td>174300.0</td>\n",
       "    </tr>\n",
       "    <tr>\n",
       "      <th>12079</th>\n",
       "      <td>-118.78</td>\n",
       "      <td>34.16</td>\n",
       "      <td>9.0</td>\n",
       "      <td>30405.0</td>\n",
       "      <td>4093.0</td>\n",
       "      <td>12873.0</td>\n",
       "      <td>3931.0</td>\n",
       "      <td>8.0137</td>\n",
       "      <td>NEAR OCEAN</td>\n",
       "      <td>399200.0</td>\n",
       "    </tr>\n",
       "    <tr>\n",
       "      <th>13215</th>\n",
       "      <td>-117.12</td>\n",
       "      <td>33.52</td>\n",
       "      <td>4.0</td>\n",
       "      <td>30401.0</td>\n",
       "      <td>4957.0</td>\n",
       "      <td>13251.0</td>\n",
       "      <td>4339.0</td>\n",
       "      <td>4.5841</td>\n",
       "      <td>&lt;1H OCEAN</td>\n",
       "      <td>212300.0</td>\n",
       "    </tr>\n",
       "    <tr>\n",
       "      <th>11231</th>\n",
       "      <td>-121.92</td>\n",
       "      <td>37.53</td>\n",
       "      <td>7.0</td>\n",
       "      <td>28258.0</td>\n",
       "      <td>3864.0</td>\n",
       "      <td>12203.0</td>\n",
       "      <td>3701.0</td>\n",
       "      <td>8.4045</td>\n",
       "      <td>&lt;1H OCEAN</td>\n",
       "      <td>451100.0</td>\n",
       "    </tr>\n",
       "    <tr>\n",
       "      <th>10900</th>\n",
       "      <td>-121.53</td>\n",
       "      <td>38.48</td>\n",
       "      <td>5.0</td>\n",
       "      <td>27870.0</td>\n",
       "      <td>5027.0</td>\n",
       "      <td>11935.0</td>\n",
       "      <td>4855.0</td>\n",
       "      <td>4.8811</td>\n",
       "      <td>INLAND</td>\n",
       "      <td>212200.0</td>\n",
       "    </tr>\n",
       "    <tr>\n",
       "      <th>12657</th>\n",
       "      <td>-117.87</td>\n",
       "      <td>34.04</td>\n",
       "      <td>7.0</td>\n",
       "      <td>27700.0</td>\n",
       "      <td>4179.0</td>\n",
       "      <td>15037.0</td>\n",
       "      <td>4072.0</td>\n",
       "      <td>6.6288</td>\n",
       "      <td>&lt;1H OCEAN</td>\n",
       "      <td>339700.0</td>\n",
       "    </tr>\n",
       "    <tr>\n",
       "      <th>167</th>\n",
       "      <td>-118.90</td>\n",
       "      <td>34.26</td>\n",
       "      <td>5.0</td>\n",
       "      <td>25187.0</td>\n",
       "      <td>3521.0</td>\n",
       "      <td>11956.0</td>\n",
       "      <td>3478.0</td>\n",
       "      <td>6.9712</td>\n",
       "      <td>&lt;1H OCEAN</td>\n",
       "      <td>321300.0</td>\n",
       "    </tr>\n",
       "    <tr>\n",
       "      <th>12511</th>\n",
       "      <td>-117.42</td>\n",
       "      <td>33.35</td>\n",
       "      <td>14.0</td>\n",
       "      <td>25135.0</td>\n",
       "      <td>4819.0</td>\n",
       "      <td>35682.0</td>\n",
       "      <td>4769.0</td>\n",
       "      <td>2.5729</td>\n",
       "      <td>&lt;1H OCEAN</td>\n",
       "      <td>134400.0</td>\n",
       "    </tr>\n",
       "  </tbody>\n",
       "</table>\n",
       "</div>"
      ],
      "text/plain": [
       "       longitude  latitude  housing_median_age  total_rooms  total_bedrooms  \\\n",
       "4124     -121.79     36.64                11.0      32627.0          6445.0   \n",
       "8061     -117.78     34.03                 8.0      32054.0          5290.0   \n",
       "12960    -117.20     33.58                 2.0      30450.0          5033.0   \n",
       "12079    -118.78     34.16                 9.0      30405.0          4093.0   \n",
       "13215    -117.12     33.52                 4.0      30401.0          4957.0   \n",
       "11231    -121.92     37.53                 7.0      28258.0          3864.0   \n",
       "10900    -121.53     38.48                 5.0      27870.0          5027.0   \n",
       "12657    -117.87     34.04                 7.0      27700.0          4179.0   \n",
       "167      -118.90     34.26                 5.0      25187.0          3521.0   \n",
       "12511    -117.42     33.35                14.0      25135.0          4819.0   \n",
       "\n",
       "       population  households  median_income ocean_proximity  \\\n",
       "4124      28566.0      6082.0         2.3087       <1H OCEAN   \n",
       "8061      15507.0      5050.0         6.0191       <1H OCEAN   \n",
       "12960      9419.0      3197.0         4.5936       <1H OCEAN   \n",
       "12079     12873.0      3931.0         8.0137      NEAR OCEAN   \n",
       "13215     13251.0      4339.0         4.5841       <1H OCEAN   \n",
       "11231     12203.0      3701.0         8.4045       <1H OCEAN   \n",
       "10900     11935.0      4855.0         4.8811          INLAND   \n",
       "12657     15037.0      4072.0         6.6288       <1H OCEAN   \n",
       "167       11956.0      3478.0         6.9712       <1H OCEAN   \n",
       "12511     35682.0      4769.0         2.5729       <1H OCEAN   \n",
       "\n",
       "       median_house_value  \n",
       "4124             118800.0  \n",
       "8061             253900.0  \n",
       "12960            174300.0  \n",
       "12079            399200.0  \n",
       "13215            212300.0  \n",
       "11231            451100.0  \n",
       "10900            212200.0  \n",
       "12657            339700.0  \n",
       "167              321300.0  \n",
       "12511            134400.0  "
      ]
     },
     "execution_count": 26,
     "metadata": {},
     "output_type": "execute_result"
    }
   ],
   "source": [
    "house.sort_values(by='total_rooms',ascending=False).head(10)"
   ]
  },
  {
   "cell_type": "markdown",
   "metadata": {},
   "source": [
    "Ada 8 row yang memiliki nilai extreme outlier pada kolom 'total_rooms'. Oleh karena itu, saya drop 8 row tersebut berdasarkan indexnya pada dataframe."
   ]
  },
  {
   "cell_type": "code",
   "execution_count": 27,
   "metadata": {},
   "outputs": [],
   "source": [
    "house.drop([4124,8061,12960,12079,13215,11231,10900,12657],inplace=True)"
   ]
  },
  {
   "cell_type": "code",
   "execution_count": 28,
   "metadata": {},
   "outputs": [
    {
     "data": {
      "image/png": "[encoded data removed]",
      "text/plain": [
       "<Figure size 500x350 with 1 Axes>"
      ]
     },
     "metadata": {},
     "output_type": "display_data"
    }
   ],
   "source": [
    "plt.figure(figsize=(5,3.5))\n",
    "sns.boxplot(house['total_rooms'])\n",
    "plt.title('total_rooms')\n",
    "plt.show()"
   ]
  },
  {
   "cell_type": "markdown",
   "metadata": {},
   "source": [
    "Setelah dilakukan drop pada 8 row tersebut, tidak ada lagi extreme outlier pada kolom 'total_rooms'"
   ]
  },
  {
   "cell_type": "markdown",
   "metadata": {},
   "source": [
    "##### *Outlier pada Kolom 'total_bedrooms'*"
   ]
  },
  {
   "cell_type": "code",
   "execution_count": 29,
   "metadata": {},
   "outputs": [
    {
     "data": {
      "image/png": "[encoded data removed]",
      "text/plain": [
       "<Figure size 500x350 with 1 Axes>"
      ]
     },
     "metadata": {},
     "output_type": "display_data"
    }
   ],
   "source": [
    "plt.figure(figsize=(5,3.5))\n",
    "sns.boxplot(house['total_bedrooms'])\n",
    "plt.title('total_bedrooms')\n",
    "plt.show()"
   ]
  },
  {
   "cell_type": "markdown",
   "metadata": {},
   "source": [
    "Ada beberapa outlier yang nilainya jauh dari outlier lainnya pada kolom 'total_bedrooms', sehingga bisa dikatakan sebagai 'extreme' outlier. Untuk melihat row yang memiliki nilai extreme outlier, saya melakukan sort pada kolom 'total_bedrooms' secara descending"
   ]
  },
  {
   "cell_type": "code",
   "execution_count": 30,
   "metadata": {},
   "outputs": [
    {
     "data": {
      "text/html": [
       "<div>\n",
       "<style scoped>\n",
       "    .dataframe tbody tr th:only-of-type {\n",
       "        vertical-align: middle;\n",
       "    }\n",
       "\n",
       "    .dataframe tbody tr th {\n",
       "        vertical-align: top;\n",
       "    }\n",
       "\n",
       "    .dataframe thead th {\n",
       "        text-align: right;\n",
       "    }\n",
       "</style>\n",
       "<table border=\"1\" class=\"dataframe\">\n",
       "  <thead>\n",
       "    <tr style=\"text-align: right;\">\n",
       "      <th></th>\n",
       "      <th>longitude</th>\n",
       "      <th>latitude</th>\n",
       "      <th>housing_median_age</th>\n",
       "      <th>total_rooms</th>\n",
       "      <th>total_bedrooms</th>\n",
       "      <th>population</th>\n",
       "      <th>households</th>\n",
       "      <th>median_income</th>\n",
       "      <th>ocean_proximity</th>\n",
       "      <th>median_house_value</th>\n",
       "    </tr>\n",
       "  </thead>\n",
       "  <tbody>\n",
       "    <tr>\n",
       "      <th>9809</th>\n",
       "      <td>-117.34</td>\n",
       "      <td>33.98</td>\n",
       "      <td>10.0</td>\n",
       "      <td>17286.0</td>\n",
       "      <td>4952.0</td>\n",
       "      <td>9851.0</td>\n",
       "      <td>4616.0</td>\n",
       "      <td>1.7579</td>\n",
       "      <td>INLAND</td>\n",
       "      <td>103400.0</td>\n",
       "    </tr>\n",
       "    <tr>\n",
       "      <th>12511</th>\n",
       "      <td>-117.42</td>\n",
       "      <td>33.35</td>\n",
       "      <td>14.0</td>\n",
       "      <td>25135.0</td>\n",
       "      <td>4819.0</td>\n",
       "      <td>35682.0</td>\n",
       "      <td>4769.0</td>\n",
       "      <td>2.5729</td>\n",
       "      <td>&lt;1H OCEAN</td>\n",
       "      <td>134400.0</td>\n",
       "    </tr>\n",
       "    <tr>\n",
       "      <th>14362</th>\n",
       "      <td>-117.22</td>\n",
       "      <td>32.86</td>\n",
       "      <td>4.0</td>\n",
       "      <td>16289.0</td>\n",
       "      <td>4585.0</td>\n",
       "      <td>7604.0</td>\n",
       "      <td>4176.0</td>\n",
       "      <td>3.6287</td>\n",
       "      <td>NEAR OCEAN</td>\n",
       "      <td>280800.0</td>\n",
       "    </tr>\n",
       "    <tr>\n",
       "      <th>6578</th>\n",
       "      <td>-116.36</td>\n",
       "      <td>33.78</td>\n",
       "      <td>6.0</td>\n",
       "      <td>24121.0</td>\n",
       "      <td>4522.0</td>\n",
       "      <td>4176.0</td>\n",
       "      <td>2221.0</td>\n",
       "      <td>3.3799</td>\n",
       "      <td>INLAND</td>\n",
       "      <td>239300.0</td>\n",
       "    </tr>\n",
       "    <tr>\n",
       "      <th>14295</th>\n",
       "      <td>-121.68</td>\n",
       "      <td>36.72</td>\n",
       "      <td>12.0</td>\n",
       "      <td>19234.0</td>\n",
       "      <td>4492.0</td>\n",
       "      <td>12153.0</td>\n",
       "      <td>4372.0</td>\n",
       "      <td>3.2652</td>\n",
       "      <td>&lt;1H OCEAN</td>\n",
       "      <td>152800.0</td>\n",
       "    </tr>\n",
       "    <tr>\n",
       "      <th>13131</th>\n",
       "      <td>-118.43</td>\n",
       "      <td>34.43</td>\n",
       "      <td>5.0</td>\n",
       "      <td>21113.0</td>\n",
       "      <td>4386.0</td>\n",
       "      <td>9842.0</td>\n",
       "      <td>3886.0</td>\n",
       "      <td>4.2037</td>\n",
       "      <td>&lt;1H OCEAN</td>\n",
       "      <td>194600.0</td>\n",
       "    </tr>\n",
       "    <tr>\n",
       "      <th>5585</th>\n",
       "      <td>-118.60</td>\n",
       "      <td>34.19</td>\n",
       "      <td>16.0</td>\n",
       "      <td>14912.0</td>\n",
       "      <td>4183.0</td>\n",
       "      <td>5105.0</td>\n",
       "      <td>3302.0</td>\n",
       "      <td>2.8312</td>\n",
       "      <td>&lt;1H OCEAN</td>\n",
       "      <td>213900.0</td>\n",
       "    </tr>\n",
       "    <tr>\n",
       "      <th>13945</th>\n",
       "      <td>-118.09</td>\n",
       "      <td>34.68</td>\n",
       "      <td>4.0</td>\n",
       "      <td>23386.0</td>\n",
       "      <td>4171.0</td>\n",
       "      <td>10493.0</td>\n",
       "      <td>3671.0</td>\n",
       "      <td>4.0211</td>\n",
       "      <td>INLAND</td>\n",
       "      <td>144000.0</td>\n",
       "    </tr>\n",
       "    <tr>\n",
       "      <th>6058</th>\n",
       "      <td>-117.27</td>\n",
       "      <td>33.15</td>\n",
       "      <td>4.0</td>\n",
       "      <td>23915.0</td>\n",
       "      <td>4135.0</td>\n",
       "      <td>10877.0</td>\n",
       "      <td>3958.0</td>\n",
       "      <td>4.6357</td>\n",
       "      <td>NEAR OCEAN</td>\n",
       "      <td>244900.0</td>\n",
       "    </tr>\n",
       "    <tr>\n",
       "      <th>10138</th>\n",
       "      <td>-117.61</td>\n",
       "      <td>34.10</td>\n",
       "      <td>9.0</td>\n",
       "      <td>18956.0</td>\n",
       "      <td>4095.0</td>\n",
       "      <td>10323.0</td>\n",
       "      <td>3832.0</td>\n",
       "      <td>3.6033</td>\n",
       "      <td>INLAND</td>\n",
       "      <td>132600.0</td>\n",
       "    </tr>\n",
       "    <tr>\n",
       "      <th>12723</th>\n",
       "      <td>-117.12</td>\n",
       "      <td>33.49</td>\n",
       "      <td>4.0</td>\n",
       "      <td>21988.0</td>\n",
       "      <td>4055.0</td>\n",
       "      <td>8824.0</td>\n",
       "      <td>3252.0</td>\n",
       "      <td>3.9963</td>\n",
       "      <td>&lt;1H OCEAN</td>\n",
       "      <td>191100.0</td>\n",
       "    </tr>\n",
       "    <tr>\n",
       "      <th>8177</th>\n",
       "      <td>-118.55</td>\n",
       "      <td>34.41</td>\n",
       "      <td>8.0</td>\n",
       "      <td>21086.0</td>\n",
       "      <td>3945.0</td>\n",
       "      <td>9936.0</td>\n",
       "      <td>3790.0</td>\n",
       "      <td>5.8602</td>\n",
       "      <td>&lt;1H OCEAN</td>\n",
       "      <td>265100.0</td>\n",
       "    </tr>\n",
       "    <tr>\n",
       "      <th>7088</th>\n",
       "      <td>-116.33</td>\n",
       "      <td>33.75</td>\n",
       "      <td>5.0</td>\n",
       "      <td>19107.0</td>\n",
       "      <td>3923.0</td>\n",
       "      <td>2880.0</td>\n",
       "      <td>1376.0</td>\n",
       "      <td>4.0360</td>\n",
       "      <td>INLAND</td>\n",
       "      <td>158500.0</td>\n",
       "    </tr>\n",
       "    <tr>\n",
       "      <th>5199</th>\n",
       "      <td>-118.35</td>\n",
       "      <td>33.84</td>\n",
       "      <td>22.0</td>\n",
       "      <td>13133.0</td>\n",
       "      <td>3680.0</td>\n",
       "      <td>7180.0</td>\n",
       "      <td>3522.0</td>\n",
       "      <td>3.5414</td>\n",
       "      <td>&lt;1H OCEAN</td>\n",
       "      <td>354700.0</td>\n",
       "    </tr>\n",
       "    <tr>\n",
       "      <th>14326</th>\n",
       "      <td>-118.34</td>\n",
       "      <td>33.91</td>\n",
       "      <td>12.0</td>\n",
       "      <td>9975.0</td>\n",
       "      <td>3638.0</td>\n",
       "      <td>7429.0</td>\n",
       "      <td>3405.0</td>\n",
       "      <td>2.6689</td>\n",
       "      <td>&lt;1H OCEAN</td>\n",
       "      <td>192300.0</td>\n",
       "    </tr>\n",
       "  </tbody>\n",
       "</table>\n",
       "</div>"
      ],
      "text/plain": [
       "       longitude  latitude  housing_median_age  total_rooms  total_bedrooms  \\\n",
       "9809     -117.34     33.98                10.0      17286.0          4952.0   \n",
       "12511    -117.42     33.35                14.0      25135.0          4819.0   \n",
       "14362    -117.22     32.86                 4.0      16289.0          4585.0   \n",
       "6578     -116.36     33.78                 6.0      24121.0          4522.0   \n",
       "14295    -121.68     36.72                12.0      19234.0          4492.0   \n",
       "13131    -118.43     34.43                 5.0      21113.0          4386.0   \n",
       "5585     -118.60     34.19                16.0      14912.0          4183.0   \n",
       "13945    -118.09     34.68                 4.0      23386.0          4171.0   \n",
       "6058     -117.27     33.15                 4.0      23915.0          4135.0   \n",
       "10138    -117.61     34.10                 9.0      18956.0          4095.0   \n",
       "12723    -117.12     33.49                 4.0      21988.0          4055.0   \n",
       "8177     -118.55     34.41                 8.0      21086.0          3945.0   \n",
       "7088     -116.33     33.75                 5.0      19107.0          3923.0   \n",
       "5199     -118.35     33.84                22.0      13133.0          3680.0   \n",
       "14326    -118.34     33.91                12.0       9975.0          3638.0   \n",
       "\n",
       "       population  households  median_income ocean_proximity  \\\n",
       "9809       9851.0      4616.0         1.7579          INLAND   \n",
       "12511     35682.0      4769.0         2.5729       <1H OCEAN   \n",
       "14362      7604.0      4176.0         3.6287      NEAR OCEAN   \n",
       "6578       4176.0      2221.0         3.3799          INLAND   \n",
       "14295     12153.0      4372.0         3.2652       <1H OCEAN   \n",
       "13131      9842.0      3886.0         4.2037       <1H OCEAN   \n",
       "5585       5105.0      3302.0         2.8312       <1H OCEAN   \n",
       "13945     10493.0      3671.0         4.0211          INLAND   \n",
       "6058      10877.0      3958.0         4.6357      NEAR OCEAN   \n",
       "10138     10323.0      3832.0         3.6033          INLAND   \n",
       "12723      8824.0      3252.0         3.9963       <1H OCEAN   \n",
       "8177       9936.0      3790.0         5.8602       <1H OCEAN   \n",
       "7088       2880.0      1376.0         4.0360          INLAND   \n",
       "5199       7180.0      3522.0         3.5414       <1H OCEAN   \n",
       "14326      7429.0      3405.0         2.6689       <1H OCEAN   \n",
       "\n",
       "       median_house_value  \n",
       "9809             103400.0  \n",
       "12511            134400.0  \n",
       "14362            280800.0  \n",
       "6578             239300.0  \n",
       "14295            152800.0  \n",
       "13131            194600.0  \n",
       "5585             213900.0  \n",
       "13945            144000.0  \n",
       "6058             244900.0  \n",
       "10138            132600.0  \n",
       "12723            191100.0  \n",
       "8177             265100.0  \n",
       "7088             158500.0  \n",
       "5199             354700.0  \n",
       "14326            192300.0  "
      ]
     },
     "execution_count": 30,
     "metadata": {},
     "output_type": "execute_result"
    }
   ],
   "source": [
    "house.sort_values(by='total_bedrooms',ascending=False).head(15)"
   ]
  },
  {
   "cell_type": "markdown",
   "metadata": {},
   "source": [
    "Ada 6 row yang memiliki nilai extreme outlier pada kolom 'total_bedrooms'. Oleh karena itu, saya drop 6 row tersebut berdasarkan indexnya pada dataframe."
   ]
  },
  {
   "cell_type": "code",
   "execution_count": 31,
   "metadata": {},
   "outputs": [],
   "source": [
    "house.drop([9809,12511,14362,6578,14295,13131],inplace=True)"
   ]
  },
  {
   "cell_type": "code",
   "execution_count": 32,
   "metadata": {},
   "outputs": [
    {
     "data": {
      "image/png": "[encoded data removed]",
      "text/plain": [
       "<Figure size 500x350 with 1 Axes>"
      ]
     },
     "metadata": {},
     "output_type": "display_data"
    }
   ],
   "source": [
    "plt.figure(figsize=(5,3.5))\n",
    "sns.boxplot(house['total_bedrooms'])\n",
    "plt.title('total_bedrooms')\n",
    "plt.show()"
   ]
  },
  {
   "cell_type": "markdown",
   "metadata": {},
   "source": [
    "Setelah dilakukan drop pada 6 row tersebut, tidak ada lagi extreme outlier pada kolom 'total_bedrooms'"
   ]
  },
  {
   "cell_type": "markdown",
   "metadata": {},
   "source": [
    "##### *Outlier pada Kolom 'population'*"
   ]
  },
  {
   "cell_type": "code",
   "execution_count": 33,
   "metadata": {},
   "outputs": [
    {
     "data": {
      "image/png": "[encoded data removed]",
      "text/plain": [
       "<Figure size 500x350 with 1 Axes>"
      ]
     },
     "metadata": {},
     "output_type": "display_data"
    }
   ],
   "source": [
    "plt.figure(figsize=(5,3.5))\n",
    "sns.boxplot(house['population'])\n",
    "plt.title('population')\n",
    "plt.show()"
   ]
  },
  {
   "cell_type": "markdown",
   "metadata": {},
   "source": [
    "Ada beberapa outlier yang nilainya jauh dari outlier lainnya pada kolom 'population', sehingga bisa dikatakan sebagai 'extreme' outlier. Untuk melihat row yang memiliki nilai extreme outlier, saya melakukan sort pada kolom 'population' secara descending"
   ]
  },
  {
   "cell_type": "code",
   "execution_count": 34,
   "metadata": {},
   "outputs": [
    {
     "data": {
      "text/html": [
       "<div>\n",
       "<style scoped>\n",
       "    .dataframe tbody tr th:only-of-type {\n",
       "        vertical-align: middle;\n",
       "    }\n",
       "\n",
       "    .dataframe tbody tr th {\n",
       "        vertical-align: top;\n",
       "    }\n",
       "\n",
       "    .dataframe thead th {\n",
       "        text-align: right;\n",
       "    }\n",
       "</style>\n",
       "<table border=\"1\" class=\"dataframe\">\n",
       "  <thead>\n",
       "    <tr style=\"text-align: right;\">\n",
       "      <th></th>\n",
       "      <th>longitude</th>\n",
       "      <th>latitude</th>\n",
       "      <th>housing_median_age</th>\n",
       "      <th>total_rooms</th>\n",
       "      <th>total_bedrooms</th>\n",
       "      <th>population</th>\n",
       "      <th>households</th>\n",
       "      <th>median_income</th>\n",
       "      <th>ocean_proximity</th>\n",
       "      <th>median_house_value</th>\n",
       "    </tr>\n",
       "  </thead>\n",
       "  <tbody>\n",
       "    <tr>\n",
       "      <th>167</th>\n",
       "      <td>-118.90</td>\n",
       "      <td>34.26</td>\n",
       "      <td>5.0</td>\n",
       "      <td>25187.0</td>\n",
       "      <td>3521.0</td>\n",
       "      <td>11956.0</td>\n",
       "      <td>3478.0</td>\n",
       "      <td>6.9712</td>\n",
       "      <td>&lt;1H OCEAN</td>\n",
       "      <td>321300.0</td>\n",
       "    </tr>\n",
       "    <tr>\n",
       "      <th>4168</th>\n",
       "      <td>-121.61</td>\n",
       "      <td>36.69</td>\n",
       "      <td>19.0</td>\n",
       "      <td>9899.0</td>\n",
       "      <td>2617.0</td>\n",
       "      <td>11272.0</td>\n",
       "      <td>2528.0</td>\n",
       "      <td>2.0244</td>\n",
       "      <td>&lt;1H OCEAN</td>\n",
       "      <td>118500.0</td>\n",
       "    </tr>\n",
       "    <tr>\n",
       "      <th>6058</th>\n",
       "      <td>-117.27</td>\n",
       "      <td>33.15</td>\n",
       "      <td>4.0</td>\n",
       "      <td>23915.0</td>\n",
       "      <td>4135.0</td>\n",
       "      <td>10877.0</td>\n",
       "      <td>3958.0</td>\n",
       "      <td>4.6357</td>\n",
       "      <td>NEAR OCEAN</td>\n",
       "      <td>244900.0</td>\n",
       "    </tr>\n",
       "    <tr>\n",
       "      <th>13945</th>\n",
       "      <td>-118.09</td>\n",
       "      <td>34.68</td>\n",
       "      <td>4.0</td>\n",
       "      <td>23386.0</td>\n",
       "      <td>4171.0</td>\n",
       "      <td>10493.0</td>\n",
       "      <td>3671.0</td>\n",
       "      <td>4.0211</td>\n",
       "      <td>INLAND</td>\n",
       "      <td>144000.0</td>\n",
       "    </tr>\n",
       "    <tr>\n",
       "      <th>3911</th>\n",
       "      <td>-117.75</td>\n",
       "      <td>34.01</td>\n",
       "      <td>4.0</td>\n",
       "      <td>22128.0</td>\n",
       "      <td>3522.0</td>\n",
       "      <td>10450.0</td>\n",
       "      <td>3258.0</td>\n",
       "      <td>6.1287</td>\n",
       "      <td>&lt;1H OCEAN</td>\n",
       "      <td>289600.0</td>\n",
       "    </tr>\n",
       "    <tr>\n",
       "      <th>5649</th>\n",
       "      <td>-121.40</td>\n",
       "      <td>38.47</td>\n",
       "      <td>4.0</td>\n",
       "      <td>20982.0</td>\n",
       "      <td>3392.0</td>\n",
       "      <td>10329.0</td>\n",
       "      <td>3086.0</td>\n",
       "      <td>4.3658</td>\n",
       "      <td>INLAND</td>\n",
       "      <td>130600.0</td>\n",
       "    </tr>\n",
       "    <tr>\n",
       "      <th>10138</th>\n",
       "      <td>-117.61</td>\n",
       "      <td>34.10</td>\n",
       "      <td>9.0</td>\n",
       "      <td>18956.0</td>\n",
       "      <td>4095.0</td>\n",
       "      <td>10323.0</td>\n",
       "      <td>3832.0</td>\n",
       "      <td>3.6033</td>\n",
       "      <td>INLAND</td>\n",
       "      <td>132600.0</td>\n",
       "    </tr>\n",
       "    <tr>\n",
       "      <th>8177</th>\n",
       "      <td>-118.55</td>\n",
       "      <td>34.41</td>\n",
       "      <td>8.0</td>\n",
       "      <td>21086.0</td>\n",
       "      <td>3945.0</td>\n",
       "      <td>9936.0</td>\n",
       "      <td>3790.0</td>\n",
       "      <td>5.8602</td>\n",
       "      <td>&lt;1H OCEAN</td>\n",
       "      <td>265100.0</td>\n",
       "    </tr>\n",
       "    <tr>\n",
       "      <th>11001</th>\n",
       "      <td>-121.94</td>\n",
       "      <td>38.27</td>\n",
       "      <td>35.0</td>\n",
       "      <td>10869.0</td>\n",
       "      <td>2226.0</td>\n",
       "      <td>9879.0</td>\n",
       "      <td>2152.0</td>\n",
       "      <td>2.5681</td>\n",
       "      <td>INLAND</td>\n",
       "      <td>81300.0</td>\n",
       "    </tr>\n",
       "    <tr>\n",
       "      <th>6431</th>\n",
       "      <td>-117.83</td>\n",
       "      <td>33.97</td>\n",
       "      <td>11.0</td>\n",
       "      <td>21533.0</td>\n",
       "      <td>3078.0</td>\n",
       "      <td>9671.0</td>\n",
       "      <td>2890.0</td>\n",
       "      <td>7.0329</td>\n",
       "      <td>&lt;1H OCEAN</td>\n",
       "      <td>368300.0</td>\n",
       "    </tr>\n",
       "  </tbody>\n",
       "</table>\n",
       "</div>"
      ],
      "text/plain": [
       "       longitude  latitude  housing_median_age  total_rooms  total_bedrooms  \\\n",
       "167      -118.90     34.26                 5.0      25187.0          3521.0   \n",
       "4168     -121.61     36.69                19.0       9899.0          2617.0   \n",
       "6058     -117.27     33.15                 4.0      23915.0          4135.0   \n",
       "13945    -118.09     34.68                 4.0      23386.0          4171.0   \n",
       "3911     -117.75     34.01                 4.0      22128.0          3522.0   \n",
       "5649     -121.40     38.47                 4.0      20982.0          3392.0   \n",
       "10138    -117.61     34.10                 9.0      18956.0          4095.0   \n",
       "8177     -118.55     34.41                 8.0      21086.0          3945.0   \n",
       "11001    -121.94     38.27                35.0      10869.0          2226.0   \n",
       "6431     -117.83     33.97                11.0      21533.0          3078.0   \n",
       "\n",
       "       population  households  median_income ocean_proximity  \\\n",
       "167       11956.0      3478.0         6.9712       <1H OCEAN   \n",
       "4168      11272.0      2528.0         2.0244       <1H OCEAN   \n",
       "6058      10877.0      3958.0         4.6357      NEAR OCEAN   \n",
       "13945     10493.0      3671.0         4.0211          INLAND   \n",
       "3911      10450.0      3258.0         6.1287       <1H OCEAN   \n",
       "5649      10329.0      3086.0         4.3658          INLAND   \n",
       "10138     10323.0      3832.0         3.6033          INLAND   \n",
       "8177       9936.0      3790.0         5.8602       <1H OCEAN   \n",
       "11001      9879.0      2152.0         2.5681          INLAND   \n",
       "6431       9671.0      2890.0         7.0329       <1H OCEAN   \n",
       "\n",
       "       median_house_value  \n",
       "167              321300.0  \n",
       "4168             118500.0  \n",
       "6058             244900.0  \n",
       "13945            144000.0  \n",
       "3911             289600.0  \n",
       "5649             130600.0  \n",
       "10138            132600.0  \n",
       "8177             265100.0  \n",
       "11001             81300.0  \n",
       "6431             368300.0  "
      ]
     },
     "execution_count": 34,
     "metadata": {},
     "output_type": "execute_result"
    }
   ],
   "source": [
    "house.sort_values(by='population',ascending=False).head(10)"
   ]
  },
  {
   "cell_type": "markdown",
   "metadata": {},
   "source": [
    "Ada 2 row yang memiliki nilai extreme outlier pada kolom 'population'. Oleh karena itu, saya drop 2 row tersebut berdasarkan indexnya pada dataframe."
   ]
  },
  {
   "cell_type": "code",
   "execution_count": 35,
   "metadata": {},
   "outputs": [],
   "source": [
    "house.drop([167,4168],inplace=True)"
   ]
  },
  {
   "cell_type": "code",
   "execution_count": 36,
   "metadata": {},
   "outputs": [
    {
     "data": {
      "image/png": "[encoded data removed]",
      "text/plain": [
       "<Figure size 500x350 with 1 Axes>"
      ]
     },
     "metadata": {},
     "output_type": "display_data"
    }
   ],
   "source": [
    "plt.figure(figsize=(5,3.5))\n",
    "sns.boxplot(house['population'])\n",
    "plt.title('population')\n",
    "plt.show()"
   ]
  },
  {
   "cell_type": "markdown",
   "metadata": {},
   "source": [
    "Setelah dilakukan drop pada 2 row tersebut, tidak ada lagi extreme outlier pada kolom 'population'"
   ]
  },
  {
   "cell_type": "markdown",
   "metadata": {},
   "source": [
    "##### *Outlier pada Kolom 'households'*"
   ]
  },
  {
   "cell_type": "code",
   "execution_count": 37,
   "metadata": {},
   "outputs": [
    {
     "data": {
      "image/png": "[encoded data removed]",
      "text/plain": [
       "<Figure size 500x350 with 1 Axes>"
      ]
     },
     "metadata": {},
     "output_type": "display_data"
    }
   ],
   "source": [
    "plt.figure(figsize=(5,3.5))\n",
    "sns.boxplot(house['households'])\n",
    "plt.title('households')\n",
    "plt.show()"
   ]
  },
  {
   "cell_type": "markdown",
   "metadata": {},
   "source": [
    "Tidak ada extreme outlier pada kolom 'households'. Oleh karena itu, tidak ada data yang didrop pada kolom ini"
   ]
  },
  {
   "cell_type": "markdown",
   "metadata": {},
   "source": [
    "##### *Outlier pada Kolom 'median_income'*"
   ]
  },
  {
   "cell_type": "code",
   "execution_count": 38,
   "metadata": {},
   "outputs": [
    {
     "data": {
      "image/png": "[encoded data removed]",
      "text/plain": [
       "<Figure size 500x350 with 1 Axes>"
      ]
     },
     "metadata": {},
     "output_type": "display_data"
    }
   ],
   "source": [
    "plt.figure(figsize=(5,3.5))\n",
    "sns.boxplot(house['median_income'])\n",
    "plt.title('median_income')\n",
    "plt.show()"
   ]
  },
  {
   "cell_type": "markdown",
   "metadata": {},
   "source": [
    "Tidak ada extreme outlier pada kolom 'median_income'. Oleh karena itu, tidak ada data yang didrop pada kolom ini"
   ]
  },
  {
   "cell_type": "markdown",
   "metadata": {},
   "source": [
    "##### *Outlier pada Kolom 'median_house_value'*"
   ]
  },
  {
   "cell_type": "code",
   "execution_count": 39,
   "metadata": {},
   "outputs": [
    {
     "data": {
      "image/png": "[encoded data removed]",
      "text/plain": [
       "<Figure size 500x350 with 1 Axes>"
      ]
     },
     "metadata": {},
     "output_type": "display_data"
    }
   ],
   "source": [
    "plt.figure(figsize=(5,3.5))\n",
    "sns.boxplot(house['median_house_value'])\n",
    "plt.title('median_house_value')\n",
    "plt.show()"
   ]
  },
  {
   "cell_type": "markdown",
   "metadata": {},
   "source": [
    "Tidak ada extreme outlier pada kolom 'median_house_value'. Oleh karena itu, tidak ada data yang didrop pada kolom ini"
   ]
  },
  {
   "cell_type": "markdown",
   "metadata": {},
   "source": [
    "##### *Reset Index Dataframe*"
   ]
  },
  {
   "cell_type": "code",
   "execution_count": 40,
   "metadata": {},
   "outputs": [],
   "source": [
    "house = house.reset_index(drop=True)"
   ]
  },
  {
   "cell_type": "markdown",
   "metadata": {},
   "source": [
    "Reset index dilakukan agar index kembali berurutan dikarenakan ada beberapa index yang tidak ada setelah beberapa row didrop pada proses sebelumnya."
   ]
  },
  {
   "cell_type": "markdown",
   "metadata": {},
   "source": [
    "##### *Export Clean Dataset to CSV File*"
   ]
  },
  {
   "cell_type": "code",
   "execution_count": 41,
   "metadata": {},
   "outputs": [],
   "source": [
    "house.to_csv('data_california_house_clean.csv', index=False)"
   ]
  },
  {
   "cell_type": "markdown",
   "metadata": {},
   "source": [
    "### **Correlation Matrix**"
   ]
  },
  {
   "cell_type": "markdown",
   "metadata": {},
   "source": [
    "Correlation matrix digunakan untuk melihat seberapa besar pengaruh sebuah variable dalam mempengaruhi nilai dari variable lainnya."
   ]
  },
  {
   "cell_type": "code",
   "execution_count": 42,
   "metadata": {},
   "outputs": [
    {
     "name": "stderr",
     "output_type": "stream",
     "text": [
      "C:\\Users\\kenta\\AppData\\Local\\Temp\\ipykernel_14068\\3225201192.py:3: FutureWarning: The default value of numeric_only in DataFrame.corr is deprecated. In a future version, it will default to False. Select only valid columns or specify the value of numeric_only to silence this warning.\n",
      "  corr = house.corr(method='pearson')\n"
     ]
    },
    {
     "data": {
      "image/png": "[encoded data removed]",
      "text/plain": [
       "<Figure size 1000x800 with 2 Axes>"
      ]
     },
     "metadata": {},
     "output_type": "display_data"
    }
   ],
   "source": [
    "plt.figure(figsize=(10, 8))\n",
    "palette=sns.diverging_palette(20, 220, n=256)\n",
    "corr = house.corr(method='pearson')\n",
    "sns.heatmap(corr, annot=True, fmt='.2f', cmap=palette, square=True, linewidths=.5)\n",
    "plt.title('Correlation Matrix', size=15);\n",
    "plt.show()"
   ]
  },
  {
   "cell_type": "markdown",
   "metadata": {},
   "source": [
    "Berdasarkan matrix diatas, variable median_house_value memiliki korelasi yang cukup tinggi dengan variable median_income. Hal ini menunjukkan bahwa semakin tinggi nilai median dari penghasilan setiap kepala keluarga pada suatu blok perumahan, maka harga rumah pada blok tersebut akan makin tinggi."
   ]
  },
  {
   "cell_type": "markdown",
   "metadata": {},
   "source": [
    "### **Limitasi Model**"
   ]
  },
  {
   "cell_type": "code",
   "execution_count": 43,
   "metadata": {},
   "outputs": [
    {
     "data": {
      "text/plain": [
       "count     14432.000000\n",
       "mean     206797.088068\n",
       "std      115377.812284\n",
       "min       14999.000000\n",
       "25%      119600.000000\n",
       "50%      179900.000000\n",
       "75%      263825.000000\n",
       "max      500001.000000\n",
       "Name: median_house_value, dtype: float64"
      ]
     },
     "execution_count": 43,
     "metadata": {},
     "output_type": "execute_result"
    }
   ],
   "source": [
    "house['median_house_value'].describe()"
   ]
  },
  {
   "cell_type": "markdown",
   "metadata": {},
   "source": [
    "Karena nilai dari kolom median_house_value pada dataset ini rentangnya ada di antara 14.999 - 500.001, maka model ini hasilnya akan lebih baik jika memprediksi harga rumah yang ada pada rentan tersebut."
   ]
  },
  {
   "cell_type": "markdown",
   "metadata": {},
   "source": [
    "### **Modeling**"
   ]
  },
  {
   "cell_type": "markdown",
   "metadata": {},
   "source": [
    "#### *Encoding dan Scaling*"
   ]
  },
  {
   "cell_type": "markdown",
   "metadata": {},
   "source": [
    "Agar kolom yang bersifat kategorikal dapat digunakan sebagai fitur pada model, kolom tersebut harus diubah menjadi fitur numerikal. Saya menggunakan OneHotEncoder karena kolom 'ocean_proximity' memiliki 5 unique value. Yang mana masih ada pada batas jumlah maksimal dari OneHotEncoder. Selain encoding, saya juga melakukan scaling pada kolom numerikal agar nilai-nilai pada kolom tersebut besarnya jadi tidak terlalu jauh. Saya menggunakan ColumnTransformer untuk mengubah kolom tersebut, yang mana nanti dapat diaplikasikan pada pipeline model ."
   ]
  },
  {
   "cell_type": "code",
   "execution_count": 44,
   "metadata": {},
   "outputs": [],
   "source": [
    "scaler = Pipeline([\n",
    "        ('scaler', RobustScaler())\n",
    "    ])\n",
    "\n",
    "transformer = ColumnTransformer([\n",
    "    ('one_hot', OneHotEncoder(), ['ocean_proximity']),\n",
    "    ('scaler', scaler, ['housing_median_age', 'total_rooms', 'total_bedrooms', 'population', 'households','median_income']),\n",
    "], remainder='passthrough')"
   ]
  },
  {
   "cell_type": "markdown",
   "metadata": {},
   "source": [
    "#### *Split Fitur dan Target*"
   ]
  },
  {
   "cell_type": "code",
   "execution_count": 45,
   "metadata": {},
   "outputs": [],
   "source": [
    "x = house.drop(columns=['median_house_value']) #x sebagai fitur\n",
    "y = house['median_house_value'] #y sebagai target"
   ]
  },
  {
   "cell_type": "markdown",
   "metadata": {},
   "source": [
    "#### *Split Data Train dan Test*"
   ]
  },
  {
   "cell_type": "markdown",
   "metadata": {},
   "source": [
    "Pada bagian ini, saya membagi data menjadi 2 bagian, yaitu data train dan data test. Perbandingan antara data train dan data test adalah 80:20"
   ]
  },
  {
   "cell_type": "code",
   "execution_count": 46,
   "metadata": {},
   "outputs": [],
   "source": [
    "# Split\n",
    "xtrain, xtest, ytrain, ytest = train_test_split(\n",
    "    x, \n",
    "    y,\n",
    "    test_size=0.2,\n",
    "    random_state=100\n",
    ")"
   ]
  },
  {
   "cell_type": "markdown",
   "metadata": {},
   "source": [
    "#### *Model Benchmarking*"
   ]
  },
  {
   "cell_type": "markdown",
   "metadata": {},
   "source": [
    "Algoritma yang akan saya gunakan pada model ini adalah LinearRegression, DecisionTreeRegressor, KNeighborsRegressor, XGBRegressor, dan RandomForestRegressor. Pada proses ini, saya akan mengambil 2 model terbaik berdasarkan MAPE pada hasil Cross Validate untuk dilakukan predict ke data test dan kemudian dilanjutkan dengan melakukan hyperparameter tuning pada 2 model terpilih."
   ]
  },
  {
   "cell_type": "code",
   "execution_count": 47,
   "metadata": {},
   "outputs": [],
   "source": [
    "linreg = LinearRegression()\n",
    "dt = DecisionTreeRegressor(random_state=100)\n",
    "knn = KNeighborsRegressor()\n",
    "xgb = XGBRegressor()    \n",
    "rfr = RandomForestRegressor(random_state=100)\n",
    "\n",
    "model = [linreg,dt,knn,xgb,rfr]"
   ]
  },
  {
   "cell_type": "code",
   "execution_count": 48,
   "metadata": {},
   "outputs": [],
   "source": [
    "list_model = []\n",
    "list_mae = []\n",
    "list_mape = []\n",
    "list_rmse = []\n",
    "mape_std = []\n",
    "\n",
    "for i in model:\n",
    "    pipe_model = Pipeline([\n",
    "        ('preprocessing', transformer),\n",
    "        ('modeling', i) \n",
    "    ])\n",
    "\n",
    "    # cross validation\n",
    "    cv_score = cross_validate( \n",
    "        estimator= pipe_model,  # model\n",
    "        X = xtrain,            # X_train\n",
    "        y = ytrain,            # y_train\n",
    "        cv = 5,                 # berapa fold\n",
    "        scoring= ['neg_mean_absolute_error','neg_mean_absolute_percentage_error',\n",
    "                  'neg_mean_squared_error','neg_root_mean_squared_error']\n",
    "    )\n",
    "    \n",
    "    list_model.append(i)\n",
    "    list_mae.append(cv_score['test_neg_mean_absolute_error'].mean()) \n",
    "    list_mape.append(cv_score['test_neg_mean_absolute_percentage_error'].mean())\n",
    "    list_rmse.append(cv_score['test_neg_root_mean_squared_error'].mean())\n",
    "    mape_std.append(cv_score['test_neg_mean_absolute_percentage_error'].std())"
   ]
  },
  {
   "cell_type": "code",
   "execution_count": 49,
   "metadata": {},
   "outputs": [
    {
     "data": {
      "text/html": [
       "<div>\n",
       "<style scoped>\n",
       "    .dataframe tbody tr th:only-of-type {\n",
       "        vertical-align: middle;\n",
       "    }\n",
       "\n",
       "    .dataframe tbody tr th {\n",
       "        vertical-align: top;\n",
       "    }\n",
       "\n",
       "    .dataframe thead th {\n",
       "        text-align: right;\n",
       "    }\n",
       "</style>\n",
       "<table border=\"1\" class=\"dataframe\">\n",
       "  <thead>\n",
       "    <tr style=\"text-align: right;\">\n",
       "      <th></th>\n",
       "      <th>Model</th>\n",
       "      <th>MAE</th>\n",
       "      <th>MAPE</th>\n",
       "      <th>RMSE</th>\n",
       "      <th>MAPE std</th>\n",
       "    </tr>\n",
       "  </thead>\n",
       "  <tbody>\n",
       "    <tr>\n",
       "      <th>3</th>\n",
       "      <td>XGBRegressor(base_score=None, booster=None, ca...</td>\n",
       "      <td>3.317553e+04</td>\n",
       "      <td>1.852705e-01</td>\n",
       "      <td>4.984316e+04</td>\n",
       "      <td>2.540676e-03</td>\n",
       "    </tr>\n",
       "    <tr>\n",
       "      <th>4</th>\n",
       "      <td>RandomForestRegressor(random_state=100)</td>\n",
       "      <td>3.393841e+04</td>\n",
       "      <td>1.902186e-01</td>\n",
       "      <td>5.166351e+04</td>\n",
       "      <td>4.986193e-03</td>\n",
       "    </tr>\n",
       "    <tr>\n",
       "      <th>2</th>\n",
       "      <td>KNeighborsRegressor()</td>\n",
       "      <td>3.957625e+04</td>\n",
       "      <td>2.136657e-01</td>\n",
       "      <td>5.934479e+04</td>\n",
       "      <td>3.941798e-03</td>\n",
       "    </tr>\n",
       "    <tr>\n",
       "      <th>1</th>\n",
       "      <td>DecisionTreeRegressor(random_state=100)</td>\n",
       "      <td>4.614775e+04</td>\n",
       "      <td>2.520054e-01</td>\n",
       "      <td>7.204643e+04</td>\n",
       "      <td>8.549909e-03</td>\n",
       "    </tr>\n",
       "    <tr>\n",
       "      <th>0</th>\n",
       "      <td>LinearRegression()</td>\n",
       "      <td>7.126586e+12</td>\n",
       "      <td>2.478813e+07</td>\n",
       "      <td>3.424471e+14</td>\n",
       "      <td>4.957625e+07</td>\n",
       "    </tr>\n",
       "  </tbody>\n",
       "</table>\n",
       "</div>"
      ],
      "text/plain": [
       "                                               Model           MAE  \\\n",
       "3  XGBRegressor(base_score=None, booster=None, ca...  3.317553e+04   \n",
       "4            RandomForestRegressor(random_state=100)  3.393841e+04   \n",
       "2                              KNeighborsRegressor()  3.957625e+04   \n",
       "1            DecisionTreeRegressor(random_state=100)  4.614775e+04   \n",
       "0                                 LinearRegression()  7.126586e+12   \n",
       "\n",
       "           MAPE          RMSE      MAPE std  \n",
       "3  1.852705e-01  4.984316e+04  2.540676e-03  \n",
       "4  1.902186e-01  5.166351e+04  4.986193e-03  \n",
       "2  2.136657e-01  5.934479e+04  3.941798e-03  \n",
       "1  2.520054e-01  7.204643e+04  8.549909e-03  \n",
       "0  2.478813e+07  3.424471e+14  4.957625e+07  "
      ]
     },
     "execution_count": 49,
     "metadata": {},
     "output_type": "execute_result"
    }
   ],
   "source": [
    "Hasil = pd.DataFrame()\n",
    "Hasil['Model'] = list_model\n",
    "Hasil['MAE'] = np.negative(list_mae)\n",
    "Hasil['MAPE'] = np.negative(list_mape)\n",
    "Hasil['RMSE'] = np.negative(list_rmse)\n",
    "Hasil['MAPE std'] = mape_std\n",
    "\n",
    "Hasil.sort_values(by='MAPE')"
   ]
  },
  {
   "cell_type": "markdown",
   "metadata": {},
   "source": [
    "Berdasarkan hasil cross validate, XGBRegressor dan RandomForestRegressor adalah 2 model terbaik karena memiliki nilai MAPE yang terendah dibandingkan dengan model lainnya. Maka, 2 model tersebut akan digunakan untuk predict ke test set."
   ]
  },
  {
   "cell_type": "markdown",
   "metadata": {},
   "source": [
    "####  *Prediksi Data Test dengan 2 Benchmark Model Terbaik*"
   ]
  },
  {
   "cell_type": "code",
   "execution_count": 50,
   "metadata": {},
   "outputs": [
    {
     "data": {
      "text/html": [
       "<div>\n",
       "<style scoped>\n",
       "    .dataframe tbody tr th:only-of-type {\n",
       "        vertical-align: middle;\n",
       "    }\n",
       "\n",
       "    .dataframe tbody tr th {\n",
       "        vertical-align: top;\n",
       "    }\n",
       "\n",
       "    .dataframe thead th {\n",
       "        text-align: right;\n",
       "    }\n",
       "</style>\n",
       "<table border=\"1\" class=\"dataframe\">\n",
       "  <thead>\n",
       "    <tr style=\"text-align: right;\">\n",
       "      <th></th>\n",
       "      <th>Model</th>\n",
       "      <th>MAE</th>\n",
       "      <th>MAPE</th>\n",
       "      <th>RMSE</th>\n",
       "    </tr>\n",
       "  </thead>\n",
       "  <tbody>\n",
       "    <tr>\n",
       "      <th>0</th>\n",
       "      <td>RandomForestRegressor</td>\n",
       "      <td>32146.998625</td>\n",
       "      <td>0.173770</td>\n",
       "      <td>47389.480213</td>\n",
       "    </tr>\n",
       "    <tr>\n",
       "      <th>1</th>\n",
       "      <td>XGBRegressor</td>\n",
       "      <td>32165.189109</td>\n",
       "      <td>0.176221</td>\n",
       "      <td>46984.722961</td>\n",
       "    </tr>\n",
       "  </tbody>\n",
       "</table>\n",
       "</div>"
      ],
      "text/plain": [
       "                   Model           MAE      MAPE          RMSE\n",
       "0  RandomForestRegressor  32146.998625  0.173770  47389.480213\n",
       "1           XGBRegressor  32165.189109  0.176221  46984.722961"
      ]
     },
     "execution_count": 50,
     "metadata": {},
     "output_type": "execute_result"
    }
   ],
   "source": [
    "rfr_1 = RandomForestRegressor(random_state=100)\n",
    "xgb_1 = XGBRegressor()\n",
    "\n",
    "predict_cv = [rfr_1,xgb_1]\n",
    "\n",
    "predict_MAE = []\n",
    "predict_MAPE = []\n",
    "predict_RMSE = []\n",
    "\n",
    "for j in predict_cv:\n",
    "    pipe_model = Pipeline([\n",
    "        ('preprocessing',transformer),\n",
    "        ('modeling',j)\n",
    "    ])\n",
    "\n",
    "    #fit\n",
    "    pipe_model.fit(xtrain,ytrain)\n",
    "\n",
    "    #predict\n",
    "    ypredict = pipe_model.predict(xtest)\n",
    "    predict_MAE.append(mean_absolute_error(ytest,ypredict))\n",
    "    predict_MAPE.append(mean_absolute_percentage_error(ytest,ypredict))\n",
    "    predict_RMSE.append(np.sqrt(mean_squared_error(ytest, ypredict)))\n",
    "\n",
    "Hasil_predict = pd.DataFrame()\n",
    "Hasil_predict['Model'] = ['RandomForestRegressor','XGBRegressor']\n",
    "Hasil_predict['MAE'] = predict_MAE\n",
    "Hasil_predict['MAPE'] = predict_MAPE\n",
    "Hasil_predict['RMSE'] = predict_RMSE\n",
    "Hasil_predict.sort_values(by='MAPE')"
   ]
  },
  {
   "cell_type": "markdown",
   "metadata": {},
   "source": [
    "Berdasarkan hasil prediksi pada test set dengan menggunakan 2 model benchmark, RandomForestRegressor memiliki performa yang lebih baik dibandingkan dengan XGBRegressor karena memiliki nilai MAPE yang lebih rendah."
   ]
  },
  {
   "cell_type": "markdown",
   "metadata": {},
   "source": [
    "####  *Hyperparameter Tuning*"
   ]
  },
  {
   "cell_type": "markdown",
   "metadata": {},
   "source": [
    "Hyperparameter tuning dilakukan dengan tujuan untuk meningkatkan performa dari model. Model yang akan saya tuning adalah 2 model benchmark yang digunakan pada prediksi data test."
   ]
  },
  {
   "cell_type": "markdown",
   "metadata": {},
   "source": [
    "#####  XGBRegressor"
   ]
  },
  {
   "cell_type": "markdown",
   "metadata": {},
   "source": [
    "Parameter pada XGBRegressor yang akan saya tuning adalah sebagai berikut : \n",
    "- Scaler\n",
    "- Gamma\n",
    "- Learning Rate\n",
    "- Max Depth"
   ]
  },
  {
   "cell_type": "code",
   "execution_count": 51,
   "metadata": {},
   "outputs": [],
   "source": [
    "minmax = MinMaxScaler()\n",
    "standard = StandardScaler()\n",
    "robust = RobustScaler()\n",
    "\n",
    "hyperparam_space = {\n",
    "    'preprocessing__scaler__scaler': [minmax,standard,robust],\n",
    "    'algorithm__max_depth' : np.arange(1,10),\n",
    "    'algorithm__gamma' : np.arange(0,5),\n",
    "    'algorithm__learning_rate' : np.arange(0, 1.1, 0.1)\n",
    "}\n",
    "\n",
    "pipe_model = Pipeline([\n",
    "    ('preprocessing', transformer),\n",
    "    ('algorithm', XGBRegressor())\n",
    "])\n",
    "\n",
    "gridsearch = GridSearchCV(\n",
    "    estimator=pipe_model,           # model  \n",
    "    param_grid=hyperparam_space,    # hyperparameter yang mau dituning\n",
    "    cv=5,                           # jumlah fold  \n",
    "    scoring='neg_mean_absolute_percentage_error',                   # metrics\n",
    "    verbose=1,\n",
    "    n_jobs=-1                       # pakai semua processor\n",
    ")"
   ]
  },
  {
   "cell_type": "code",
   "execution_count": 52,
   "metadata": {},
   "outputs": [
    {
     "name": "stdout",
     "output_type": "stream",
     "text": [
      "Fitting 5 folds for each of 1485 candidates, totalling 7425 fits\n"
     ]
    },
    {
     "data": {
      "text/html": [
       "<style>#sk-container-id-1 {color: black;background-color: white;}#sk-container-id-1 pre{padding: 0;}#sk-container-id-1 div.sk-toggleable {background-color: white;}#sk-container-id-1 label.sk-toggleable__label {cursor: pointer;display: block;width: 100%;margin-bottom: 0;padding: 0.3em;box-sizing: border-box;text-align: center;}#sk-container-id-1 label.sk-toggleable__label-arrow:before {content: \"▸\";float: left;margin-right: 0.25em;color: #696969;}#sk-container-id-1 label.sk-toggleable__label-arrow:hover:before {color: black;}#sk-container-id-1 div.sk-estimator:hover label.sk-toggleable__label-arrow:before {color: black;}#sk-container-id-1 div.sk-toggleable__content {max-height: 0;max-width: 0;overflow: hidden;text-align: left;background-color: #f0f8ff;}#sk-container-id-1 div.sk-toggleable__content pre {margin: 0.2em;color: black;border-radius: 0.25em;background-color: #f0f8ff;}#sk-container-id-1 input.sk-toggleable__control:checked~div.sk-toggleable__content {max-height: 200px;max-width: 100%;overflow: auto;}#sk-container-id-1 input.sk-toggleable__control:checked~label.sk-toggleable__label-arrow:before {content: \"▾\";}#sk-container-id-1 div.sk-estimator input.sk-toggleable__control:checked~label.sk-toggleable__label {background-color: #d4ebff;}#sk-container-id-1 div.sk-label input.sk-toggleable__control:checked~label.sk-toggleable__label {background-color: #d4ebff;}#sk-container-id-1 input.sk-hidden--visually {border: 0;clip: rect(1px 1px 1px 1px);clip: rect(1px, 1px, 1px, 1px);height: 1px;margin: -1px;overflow: hidden;padding: 0;position: absolute;width: 1px;}#sk-container-id-1 div.sk-estimator {font-family: monospace;background-color: #f0f8ff;border: 1px dotted black;border-radius: 0.25em;box-sizing: border-box;margin-bottom: 0.5em;}#sk-container-id-1 div.sk-estimator:hover {background-color: #d4ebff;}#sk-container-id-1 div.sk-parallel-item::after {content: \"\";width: 100%;border-bottom: 1px solid gray;flex-grow: 1;}#sk-container-id-1 div.sk-label:hover label.sk-toggleable__label {background-color: #d4ebff;}#sk-container-id-1 div.sk-serial::before {content: \"\";position: absolute;border-left: 1px solid gray;box-sizing: border-box;top: 0;bottom: 0;left: 50%;z-index: 0;}#sk-container-id-1 div.sk-serial {display: flex;flex-direction: column;align-items: center;background-color: white;padding-right: 0.2em;padding-left: 0.2em;position: relative;}#sk-container-id-1 div.sk-item {position: relative;z-index: 1;}#sk-container-id-1 div.sk-parallel {display: flex;align-items: stretch;justify-content: center;background-color: white;position: relative;}#sk-container-id-1 div.sk-item::before, #sk-container-id-1 div.sk-parallel-item::before {content: \"\";position: absolute;border-left: 1px solid gray;box-sizing: border-box;top: 0;bottom: 0;left: 50%;z-index: -1;}#sk-container-id-1 div.sk-parallel-item {display: flex;flex-direction: column;z-index: 1;position: relative;background-color: white;}#sk-container-id-1 div.sk-parallel-item:first-child::after {align-self: flex-end;width: 50%;}#sk-container-id-1 div.sk-parallel-item:last-child::after {align-self: flex-start;width: 50%;}#sk-container-id-1 div.sk-parallel-item:only-child::after {width: 0;}#sk-container-id-1 div.sk-dashed-wrapped {border: 1px dashed gray;margin: 0 0.4em 0.5em 0.4em;box-sizing: border-box;padding-bottom: 0.4em;background-color: white;}#sk-container-id-1 div.sk-label label {font-family: monospace;font-weight: bold;display: inline-block;line-height: 1.2em;}#sk-container-id-1 div.sk-label-container {text-align: center;}#sk-container-id-1 div.sk-container {/* jupyter's `normalize.less` sets `[hidden] { display: none; }` but bootstrap.min.css set `[hidden] { display: none !important; }` so we also need the `!important` here to be able to override the default hidden behavior on the sphinx rendered scikit-learn.org. See: https://github.com/scikit-learn/scikit-learn/issues/21755 */display: inline-block !important;position: relative;}#sk-container-id-1 div.sk-text-repr-fallback {display: none;}</style><div id=\"sk-container-id-1\" class=\"sk-top-container\"><div class=\"sk-text-repr-fallback\"><pre>GridSearchCV(cv=5,\n",
       "             estimator=Pipeline(steps=[(&#x27;preprocessing&#x27;,\n",
       "                                        ColumnTransformer(remainder=&#x27;passthrough&#x27;,\n",
       "                                                          transformers=[(&#x27;one_hot&#x27;,\n",
       "                                                                         OneHotEncoder(),\n",
       "                                                                         [&#x27;ocean_proximity&#x27;]),\n",
       "                                                                        (&#x27;scaler&#x27;,\n",
       "                                                                         Pipeline(steps=[(&#x27;scaler&#x27;,\n",
       "                                                                                          RobustScaler())]),\n",
       "                                                                         [&#x27;housing_median_age&#x27;,\n",
       "                                                                          &#x27;total_rooms&#x27;,\n",
       "                                                                          &#x27;total_bedrooms&#x27;,\n",
       "                                                                          &#x27;population&#x27;,\n",
       "                                                                          &#x27;households&#x27;,\n",
       "                                                                          &#x27;median_income&#x27;])])),\n",
       "                                       (&#x27;algorithm&#x27;,\n",
       "                                        XGBRegressor(base_...\n",
       "                                                     random_state=None, ...))]),\n",
       "             n_jobs=-1,\n",
       "             param_grid={&#x27;algorithm__gamma&#x27;: array([0, 1, 2, 3, 4]),\n",
       "                         &#x27;algorithm__learning_rate&#x27;: array([0. , 0.1, 0.2, 0.3, 0.4, 0.5, 0.6, 0.7, 0.8, 0.9, 1. ]),\n",
       "                         &#x27;algorithm__max_depth&#x27;: array([1, 2, 3, 4, 5, 6, 7, 8, 9]),\n",
       "                         &#x27;preprocessing__scaler__scaler&#x27;: [MinMaxScaler(),\n",
       "                                                           StandardScaler(),\n",
       "                                                           RobustScaler()]},\n",
       "             scoring=&#x27;neg_mean_absolute_percentage_error&#x27;, verbose=1)</pre><b>In a Jupyter environment, please rerun this cell to show the HTML representation or trust the notebook. <br />On GitHub, the HTML representation is unable to render, please try loading this page with nbviewer.org.</b></div><div class=\"sk-container\" hidden><div class=\"sk-item sk-dashed-wrapped\"><div class=\"sk-label-container\"><div class=\"sk-label sk-toggleable\"><input class=\"sk-toggleable__control sk-hidden--visually\" id=\"sk-estimator-id-1\" type=\"checkbox\" ><label for=\"sk-estimator-id-1\" class=\"sk-toggleable__label sk-toggleable__label-arrow\">GridSearchCV</label><div class=\"sk-toggleable__content\"><pre>GridSearchCV(cv=5,\n",
       "             estimator=Pipeline(steps=[(&#x27;preprocessing&#x27;,\n",
       "                                        ColumnTransformer(remainder=&#x27;passthrough&#x27;,\n",
       "                                                          transformers=[(&#x27;one_hot&#x27;,\n",
       "                                                                         OneHotEncoder(),\n",
       "                                                                         [&#x27;ocean_proximity&#x27;]),\n",
       "                                                                        (&#x27;scaler&#x27;,\n",
       "                                                                         Pipeline(steps=[(&#x27;scaler&#x27;,\n",
       "                                                                                          RobustScaler())]),\n",
       "                                                                         [&#x27;housing_median_age&#x27;,\n",
       "                                                                          &#x27;total_rooms&#x27;,\n",
       "                                                                          &#x27;total_bedrooms&#x27;,\n",
       "                                                                          &#x27;population&#x27;,\n",
       "                                                                          &#x27;households&#x27;,\n",
       "                                                                          &#x27;median_income&#x27;])])),\n",
       "                                       (&#x27;algorithm&#x27;,\n",
       "                                        XGBRegressor(base_...\n",
       "                                                     random_state=None, ...))]),\n",
       "             n_jobs=-1,\n",
       "             param_grid={&#x27;algorithm__gamma&#x27;: array([0, 1, 2, 3, 4]),\n",
       "                         &#x27;algorithm__learning_rate&#x27;: array([0. , 0.1, 0.2, 0.3, 0.4, 0.5, 0.6, 0.7, 0.8, 0.9, 1. ]),\n",
       "                         &#x27;algorithm__max_depth&#x27;: array([1, 2, 3, 4, 5, 6, 7, 8, 9]),\n",
       "                         &#x27;preprocessing__scaler__scaler&#x27;: [MinMaxScaler(),\n",
       "                                                           StandardScaler(),\n",
       "                                                           RobustScaler()]},\n",
       "             scoring=&#x27;neg_mean_absolute_percentage_error&#x27;, verbose=1)</pre></div></div></div><div class=\"sk-parallel\"><div class=\"sk-parallel-item\"><div class=\"sk-item\"><div class=\"sk-label-container\"><div class=\"sk-label sk-toggleable\"><input class=\"sk-toggleable__control sk-hidden--visually\" id=\"sk-estimator-id-2\" type=\"checkbox\" ><label for=\"sk-estimator-id-2\" class=\"sk-toggleable__label sk-toggleable__label-arrow\">estimator: Pipeline</label><div class=\"sk-toggleable__content\"><pre>Pipeline(steps=[(&#x27;preprocessing&#x27;,\n",
       "                 ColumnTransformer(remainder=&#x27;passthrough&#x27;,\n",
       "                                   transformers=[(&#x27;one_hot&#x27;, OneHotEncoder(),\n",
       "                                                  [&#x27;ocean_proximity&#x27;]),\n",
       "                                                 (&#x27;scaler&#x27;,\n",
       "                                                  Pipeline(steps=[(&#x27;scaler&#x27;,\n",
       "                                                                   RobustScaler())]),\n",
       "                                                  [&#x27;housing_median_age&#x27;,\n",
       "                                                   &#x27;total_rooms&#x27;,\n",
       "                                                   &#x27;total_bedrooms&#x27;,\n",
       "                                                   &#x27;population&#x27;, &#x27;households&#x27;,\n",
       "                                                   &#x27;median_income&#x27;])])),\n",
       "                (&#x27;algorithm&#x27;,\n",
       "                 XGBRegressor(base_score=None, booster=None, call...\n",
       "                              feature_types=None, gamma=None, gpu_id=None,\n",
       "                              grow_policy=None, importance_type=None,\n",
       "                              interaction_constraints=None, learning_rate=None,\n",
       "                              max_bin=None, max_cat_threshold=None,\n",
       "                              max_cat_to_onehot=None, max_delta_step=None,\n",
       "                              max_depth=None, max_leaves=None,\n",
       "                              min_child_weight=None, missing=nan,\n",
       "                              monotone_constraints=None, n_estimators=100,\n",
       "                              n_jobs=None, num_parallel_tree=None,\n",
       "                              predictor=None, random_state=None, ...))])</pre></div></div></div><div class=\"sk-serial\"><div class=\"sk-item\"><div class=\"sk-serial\"><div class=\"sk-item sk-dashed-wrapped\"><div class=\"sk-label-container\"><div class=\"sk-label sk-toggleable\"><input class=\"sk-toggleable__control sk-hidden--visually\" id=\"sk-estimator-id-3\" type=\"checkbox\" ><label for=\"sk-estimator-id-3\" class=\"sk-toggleable__label sk-toggleable__label-arrow\">preprocessing: ColumnTransformer</label><div class=\"sk-toggleable__content\"><pre>ColumnTransformer(remainder=&#x27;passthrough&#x27;,\n",
       "                  transformers=[(&#x27;one_hot&#x27;, OneHotEncoder(),\n",
       "                                 [&#x27;ocean_proximity&#x27;]),\n",
       "                                (&#x27;scaler&#x27;,\n",
       "                                 Pipeline(steps=[(&#x27;scaler&#x27;, RobustScaler())]),\n",
       "                                 [&#x27;housing_median_age&#x27;, &#x27;total_rooms&#x27;,\n",
       "                                  &#x27;total_bedrooms&#x27;, &#x27;population&#x27;, &#x27;households&#x27;,\n",
       "                                  &#x27;median_income&#x27;])])</pre></div></div></div><div class=\"sk-parallel\"><div class=\"sk-parallel-item\"><div class=\"sk-item\"><div class=\"sk-label-container\"><div class=\"sk-label sk-toggleable\"><input class=\"sk-toggleable__control sk-hidden--visually\" id=\"sk-estimator-id-4\" type=\"checkbox\" ><label for=\"sk-estimator-id-4\" class=\"sk-toggleable__label sk-toggleable__label-arrow\">one_hot</label><div class=\"sk-toggleable__content\"><pre>[&#x27;ocean_proximity&#x27;]</pre></div></div></div><div class=\"sk-serial\"><div class=\"sk-item\"><div class=\"sk-estimator sk-toggleable\"><input class=\"sk-toggleable__control sk-hidden--visually\" id=\"sk-estimator-id-5\" type=\"checkbox\" ><label for=\"sk-estimator-id-5\" class=\"sk-toggleable__label sk-toggleable__label-arrow\">OneHotEncoder</label><div class=\"sk-toggleable__content\"><pre>OneHotEncoder()</pre></div></div></div></div></div></div><div class=\"sk-parallel-item\"><div class=\"sk-item\"><div class=\"sk-label-container\"><div class=\"sk-label sk-toggleable\"><input class=\"sk-toggleable__control sk-hidden--visually\" id=\"sk-estimator-id-6\" type=\"checkbox\" ><label for=\"sk-estimator-id-6\" class=\"sk-toggleable__label sk-toggleable__label-arrow\">scaler</label><div class=\"sk-toggleable__content\"><pre>[&#x27;housing_median_age&#x27;, &#x27;total_rooms&#x27;, &#x27;total_bedrooms&#x27;, &#x27;population&#x27;, &#x27;households&#x27;, &#x27;median_income&#x27;]</pre></div></div></div><div class=\"sk-serial\"><div class=\"sk-item\"><div class=\"sk-serial\"><div class=\"sk-item\"><div class=\"sk-estimator sk-toggleable\"><input class=\"sk-toggleable__control sk-hidden--visually\" id=\"sk-estimator-id-7\" type=\"checkbox\" ><label for=\"sk-estimator-id-7\" class=\"sk-toggleable__label sk-toggleable__label-arrow\">RobustScaler</label><div class=\"sk-toggleable__content\"><pre>RobustScaler()</pre></div></div></div></div></div></div></div></div><div class=\"sk-parallel-item\"><div class=\"sk-item\"><div class=\"sk-label-container\"><div class=\"sk-label sk-toggleable\"><input class=\"sk-toggleable__control sk-hidden--visually\" id=\"sk-estimator-id-8\" type=\"checkbox\" ><label for=\"sk-estimator-id-8\" class=\"sk-toggleable__label sk-toggleable__label-arrow\">remainder</label><div class=\"sk-toggleable__content\"><pre>[&#x27;longitude&#x27;, &#x27;latitude&#x27;]</pre></div></div></div><div class=\"sk-serial\"><div class=\"sk-item\"><div class=\"sk-estimator sk-toggleable\"><input class=\"sk-toggleable__control sk-hidden--visually\" id=\"sk-estimator-id-9\" type=\"checkbox\" ><label for=\"sk-estimator-id-9\" class=\"sk-toggleable__label sk-toggleable__label-arrow\">passthrough</label><div class=\"sk-toggleable__content\"><pre>passthrough</pre></div></div></div></div></div></div></div></div><div class=\"sk-item\"><div class=\"sk-estimator sk-toggleable\"><input class=\"sk-toggleable__control sk-hidden--visually\" id=\"sk-estimator-id-10\" type=\"checkbox\" ><label for=\"sk-estimator-id-10\" class=\"sk-toggleable__label sk-toggleable__label-arrow\">XGBRegressor</label><div class=\"sk-toggleable__content\"><pre>XGBRegressor(base_score=None, booster=None, callbacks=None,\n",
       "             colsample_bylevel=None, colsample_bynode=None,\n",
       "             colsample_bytree=None, early_stopping_rounds=None,\n",
       "             enable_categorical=False, eval_metric=None, feature_types=None,\n",
       "             gamma=None, gpu_id=None, grow_policy=None, importance_type=None,\n",
       "             interaction_constraints=None, learning_rate=None, max_bin=None,\n",
       "             max_cat_threshold=None, max_cat_to_onehot=None,\n",
       "             max_delta_step=None, max_depth=None, max_leaves=None,\n",
       "             min_child_weight=None, missing=nan, monotone_constraints=None,\n",
       "             n_estimators=100, n_jobs=None, num_parallel_tree=None,\n",
       "             predictor=None, random_state=None, ...)</pre></div></div></div></div></div></div></div></div></div></div></div></div>"
      ],
      "text/plain": [
       "GridSearchCV(cv=5,\n",
       "             estimator=Pipeline(steps=[('preprocessing',\n",
       "                                        ColumnTransformer(remainder='passthrough',\n",
       "                                                          transformers=[('one_hot',\n",
       "                                                                         OneHotEncoder(),\n",
       "                                                                         ['ocean_proximity']),\n",
       "                                                                        ('scaler',\n",
       "                                                                         Pipeline(steps=[('scaler',\n",
       "                                                                                          RobustScaler())]),\n",
       "                                                                         ['housing_median_age',\n",
       "                                                                          'total_rooms',\n",
       "                                                                          'total_bedrooms',\n",
       "                                                                          'population',\n",
       "                                                                          'households',\n",
       "                                                                          'median_income'])])),\n",
       "                                       ('algorithm',\n",
       "                                        XGBRegressor(base_...\n",
       "                                                     random_state=None, ...))]),\n",
       "             n_jobs=-1,\n",
       "             param_grid={'algorithm__gamma': array([0, 1, 2, 3, 4]),\n",
       "                         'algorithm__learning_rate': array([0. , 0.1, 0.2, 0.3, 0.4, 0.5, 0.6, 0.7, 0.8, 0.9, 1. ]),\n",
       "                         'algorithm__max_depth': array([1, 2, 3, 4, 5, 6, 7, 8, 9]),\n",
       "                         'preprocessing__scaler__scaler': [MinMaxScaler(),\n",
       "                                                           StandardScaler(),\n",
       "                                                           RobustScaler()]},\n",
       "             scoring='neg_mean_absolute_percentage_error', verbose=1)"
      ]
     },
     "execution_count": 52,
     "metadata": {},
     "output_type": "execute_result"
    }
   ],
   "source": [
    "gridsearch.fit(xtrain, ytrain)"
   ]
  },
  {
   "cell_type": "code",
   "execution_count": 53,
   "metadata": {},
   "outputs": [
    {
     "name": "stdout",
     "output_type": "stream",
     "text": [
      "-0.17675624011448554\n",
      "{'algorithm__gamma': 0, 'algorithm__learning_rate': 0.1, 'algorithm__max_depth': 9, 'preprocessing__scaler__scaler': MinMaxScaler()}\n"
     ]
    }
   ],
   "source": [
    "print(gridsearch.best_score_)\n",
    "print(gridsearch.best_params_)"
   ]
  },
  {
   "cell_type": "markdown",
   "metadata": {},
   "source": [
    "Berdasarkan hasil hyperparameter tuning, parameter terbaik pada XGBRegressor adalah : \n",
    "- Gamma : 0\n",
    "- Learning Rate : 0.1\n",
    "- Max Depth : 9\n",
    "- Scaler : MinMax Scaler"
   ]
  },
  {
   "cell_type": "markdown",
   "metadata": {},
   "source": [
    "#####  RandomForestRegressor"
   ]
  },
  {
   "cell_type": "markdown",
   "metadata": {},
   "source": [
    "Parameter pada RandomForestRegressor yang akan saya tuning adalah sebagai berikut : \n",
    "- Scaler\n",
    "- Max Depth\n",
    "- Min Samples Split\n",
    "- Min Sample Leaf"
   ]
  },
  {
   "cell_type": "code",
   "execution_count": 54,
   "metadata": {},
   "outputs": [],
   "source": [
    "hyperparam_space = {\n",
    "    'preprocessing__scaler__scaler': [minmax, standard, robust],\n",
    "    'algorithm__max_depth' : np.arange(1,10),\n",
    "    'algorithm__min_samples_split' : np.arange(2,10),\n",
    "    'algorithm__min_samples_leaf' : np.arange(1,10)\n",
    "}\n",
    "\n",
    "pipe_model = Pipeline([\n",
    "    ('preprocessing', transformer),\n",
    "    ('algorithm', RandomForestRegressor(random_state=100))\n",
    "])\n",
    "\n",
    "gridsearch = GridSearchCV(\n",
    "    estimator=pipe_model,           # model  \n",
    "    param_grid=hyperparam_space,    # hyperparameter yang mau dituning\n",
    "    cv=5,                           # jumlah fold  \n",
    "    scoring='neg_mean_absolute_percentage_error',                   # metrics\n",
    "    verbose=1,\n",
    "    n_jobs=-1                       # pakai semua processor\n",
    ")"
   ]
  },
  {
   "cell_type": "code",
   "execution_count": 55,
   "metadata": {},
   "outputs": [
    {
     "name": "stdout",
     "output_type": "stream",
     "text": [
      "Fitting 5 folds for each of 1944 candidates, totalling 9720 fits\n"
     ]
    },
    {
     "data": {
      "text/html": [
       "<style>#sk-container-id-2 {color: black;background-color: white;}#sk-container-id-2 pre{padding: 0;}#sk-container-id-2 div.sk-toggleable {background-color: white;}#sk-container-id-2 label.sk-toggleable__label {cursor: pointer;display: block;width: 100%;margin-bottom: 0;padding: 0.3em;box-sizing: border-box;text-align: center;}#sk-container-id-2 label.sk-toggleable__label-arrow:before {content: \"▸\";float: left;margin-right: 0.25em;color: #696969;}#sk-container-id-2 label.sk-toggleable__label-arrow:hover:before {color: black;}#sk-container-id-2 div.sk-estimator:hover label.sk-toggleable__label-arrow:before {color: black;}#sk-container-id-2 div.sk-toggleable__content {max-height: 0;max-width: 0;overflow: hidden;text-align: left;background-color: #f0f8ff;}#sk-container-id-2 div.sk-toggleable__content pre {margin: 0.2em;color: black;border-radius: 0.25em;background-color: #f0f8ff;}#sk-container-id-2 input.sk-toggleable__control:checked~div.sk-toggleable__content {max-height: 200px;max-width: 100%;overflow: auto;}#sk-container-id-2 input.sk-toggleable__control:checked~label.sk-toggleable__label-arrow:before {content: \"▾\";}#sk-container-id-2 div.sk-estimator input.sk-toggleable__control:checked~label.sk-toggleable__label {background-color: #d4ebff;}#sk-container-id-2 div.sk-label input.sk-toggleable__control:checked~label.sk-toggleable__label {background-color: #d4ebff;}#sk-container-id-2 input.sk-hidden--visually {border: 0;clip: rect(1px 1px 1px 1px);clip: rect(1px, 1px, 1px, 1px);height: 1px;margin: -1px;overflow: hidden;padding: 0;position: absolute;width: 1px;}#sk-container-id-2 div.sk-estimator {font-family: monospace;background-color: #f0f8ff;border: 1px dotted black;border-radius: 0.25em;box-sizing: border-box;margin-bottom: 0.5em;}#sk-container-id-2 div.sk-estimator:hover {background-color: #d4ebff;}#sk-container-id-2 div.sk-parallel-item::after {content: \"\";width: 100%;border-bottom: 1px solid gray;flex-grow: 1;}#sk-container-id-2 div.sk-label:hover label.sk-toggleable__label {background-color: #d4ebff;}#sk-container-id-2 div.sk-serial::before {content: \"\";position: absolute;border-left: 1px solid gray;box-sizing: border-box;top: 0;bottom: 0;left: 50%;z-index: 0;}#sk-container-id-2 div.sk-serial {display: flex;flex-direction: column;align-items: center;background-color: white;padding-right: 0.2em;padding-left: 0.2em;position: relative;}#sk-container-id-2 div.sk-item {position: relative;z-index: 1;}#sk-container-id-2 div.sk-parallel {display: flex;align-items: stretch;justify-content: center;background-color: white;position: relative;}#sk-container-id-2 div.sk-item::before, #sk-container-id-2 div.sk-parallel-item::before {content: \"\";position: absolute;border-left: 1px solid gray;box-sizing: border-box;top: 0;bottom: 0;left: 50%;z-index: -1;}#sk-container-id-2 div.sk-parallel-item {display: flex;flex-direction: column;z-index: 1;position: relative;background-color: white;}#sk-container-id-2 div.sk-parallel-item:first-child::after {align-self: flex-end;width: 50%;}#sk-container-id-2 div.sk-parallel-item:last-child::after {align-self: flex-start;width: 50%;}#sk-container-id-2 div.sk-parallel-item:only-child::after {width: 0;}#sk-container-id-2 div.sk-dashed-wrapped {border: 1px dashed gray;margin: 0 0.4em 0.5em 0.4em;box-sizing: border-box;padding-bottom: 0.4em;background-color: white;}#sk-container-id-2 div.sk-label label {font-family: monospace;font-weight: bold;display: inline-block;line-height: 1.2em;}#sk-container-id-2 div.sk-label-container {text-align: center;}#sk-container-id-2 div.sk-container {/* jupyter's `normalize.less` sets `[hidden] { display: none; }` but bootstrap.min.css set `[hidden] { display: none !important; }` so we also need the `!important` here to be able to override the default hidden behavior on the sphinx rendered scikit-learn.org. See: https://github.com/scikit-learn/scikit-learn/issues/21755 */display: inline-block !important;position: relative;}#sk-container-id-2 div.sk-text-repr-fallback {display: none;}</style><div id=\"sk-container-id-2\" class=\"sk-top-container\"><div class=\"sk-text-repr-fallback\"><pre>GridSearchCV(cv=5,\n",
       "             estimator=Pipeline(steps=[(&#x27;preprocessing&#x27;,\n",
       "                                        ColumnTransformer(remainder=&#x27;passthrough&#x27;,\n",
       "                                                          transformers=[(&#x27;one_hot&#x27;,\n",
       "                                                                         OneHotEncoder(),\n",
       "                                                                         [&#x27;ocean_proximity&#x27;]),\n",
       "                                                                        (&#x27;scaler&#x27;,\n",
       "                                                                         Pipeline(steps=[(&#x27;scaler&#x27;,\n",
       "                                                                                          RobustScaler())]),\n",
       "                                                                         [&#x27;housing_median_age&#x27;,\n",
       "                                                                          &#x27;total_rooms&#x27;,\n",
       "                                                                          &#x27;total_bedrooms&#x27;,\n",
       "                                                                          &#x27;population&#x27;,\n",
       "                                                                          &#x27;households&#x27;,\n",
       "                                                                          &#x27;median_income&#x27;])])),\n",
       "                                       (&#x27;algorithm&#x27;,\n",
       "                                        RandomForestRegressor(random_state=100))]),\n",
       "             n_jobs=-1,\n",
       "             param_grid={&#x27;algorithm__max_depth&#x27;: array([1, 2, 3, 4, 5, 6, 7, 8, 9]),\n",
       "                         &#x27;algorithm__min_samples_leaf&#x27;: array([1, 2, 3, 4, 5, 6, 7, 8, 9]),\n",
       "                         &#x27;algorithm__min_samples_split&#x27;: array([2, 3, 4, 5, 6, 7, 8, 9]),\n",
       "                         &#x27;preprocessing__scaler__scaler&#x27;: [MinMaxScaler(),\n",
       "                                                           StandardScaler(),\n",
       "                                                           RobustScaler()]},\n",
       "             scoring=&#x27;neg_mean_absolute_percentage_error&#x27;, verbose=1)</pre><b>In a Jupyter environment, please rerun this cell to show the HTML representation or trust the notebook. <br />On GitHub, the HTML representation is unable to render, please try loading this page with nbviewer.org.</b></div><div class=\"sk-container\" hidden><div class=\"sk-item sk-dashed-wrapped\"><div class=\"sk-label-container\"><div class=\"sk-label sk-toggleable\"><input class=\"sk-toggleable__control sk-hidden--visually\" id=\"sk-estimator-id-11\" type=\"checkbox\" ><label for=\"sk-estimator-id-11\" class=\"sk-toggleable__label sk-toggleable__label-arrow\">GridSearchCV</label><div class=\"sk-toggleable__content\"><pre>GridSearchCV(cv=5,\n",
       "             estimator=Pipeline(steps=[(&#x27;preprocessing&#x27;,\n",
       "                                        ColumnTransformer(remainder=&#x27;passthrough&#x27;,\n",
       "                                                          transformers=[(&#x27;one_hot&#x27;,\n",
       "                                                                         OneHotEncoder(),\n",
       "                                                                         [&#x27;ocean_proximity&#x27;]),\n",
       "                                                                        (&#x27;scaler&#x27;,\n",
       "                                                                         Pipeline(steps=[(&#x27;scaler&#x27;,\n",
       "                                                                                          RobustScaler())]),\n",
       "                                                                         [&#x27;housing_median_age&#x27;,\n",
       "                                                                          &#x27;total_rooms&#x27;,\n",
       "                                                                          &#x27;total_bedrooms&#x27;,\n",
       "                                                                          &#x27;population&#x27;,\n",
       "                                                                          &#x27;households&#x27;,\n",
       "                                                                          &#x27;median_income&#x27;])])),\n",
       "                                       (&#x27;algorithm&#x27;,\n",
       "                                        RandomForestRegressor(random_state=100))]),\n",
       "             n_jobs=-1,\n",
       "             param_grid={&#x27;algorithm__max_depth&#x27;: array([1, 2, 3, 4, 5, 6, 7, 8, 9]),\n",
       "                         &#x27;algorithm__min_samples_leaf&#x27;: array([1, 2, 3, 4, 5, 6, 7, 8, 9]),\n",
       "                         &#x27;algorithm__min_samples_split&#x27;: array([2, 3, 4, 5, 6, 7, 8, 9]),\n",
       "                         &#x27;preprocessing__scaler__scaler&#x27;: [MinMaxScaler(),\n",
       "                                                           StandardScaler(),\n",
       "                                                           RobustScaler()]},\n",
       "             scoring=&#x27;neg_mean_absolute_percentage_error&#x27;, verbose=1)</pre></div></div></div><div class=\"sk-parallel\"><div class=\"sk-parallel-item\"><div class=\"sk-item\"><div class=\"sk-label-container\"><div class=\"sk-label sk-toggleable\"><input class=\"sk-toggleable__control sk-hidden--visually\" id=\"sk-estimator-id-12\" type=\"checkbox\" ><label for=\"sk-estimator-id-12\" class=\"sk-toggleable__label sk-toggleable__label-arrow\">estimator: Pipeline</label><div class=\"sk-toggleable__content\"><pre>Pipeline(steps=[(&#x27;preprocessing&#x27;,\n",
       "                 ColumnTransformer(remainder=&#x27;passthrough&#x27;,\n",
       "                                   transformers=[(&#x27;one_hot&#x27;, OneHotEncoder(),\n",
       "                                                  [&#x27;ocean_proximity&#x27;]),\n",
       "                                                 (&#x27;scaler&#x27;,\n",
       "                                                  Pipeline(steps=[(&#x27;scaler&#x27;,\n",
       "                                                                   RobustScaler())]),\n",
       "                                                  [&#x27;housing_median_age&#x27;,\n",
       "                                                   &#x27;total_rooms&#x27;,\n",
       "                                                   &#x27;total_bedrooms&#x27;,\n",
       "                                                   &#x27;population&#x27;, &#x27;households&#x27;,\n",
       "                                                   &#x27;median_income&#x27;])])),\n",
       "                (&#x27;algorithm&#x27;, RandomForestRegressor(random_state=100))])</pre></div></div></div><div class=\"sk-serial\"><div class=\"sk-item\"><div class=\"sk-serial\"><div class=\"sk-item sk-dashed-wrapped\"><div class=\"sk-label-container\"><div class=\"sk-label sk-toggleable\"><input class=\"sk-toggleable__control sk-hidden--visually\" id=\"sk-estimator-id-13\" type=\"checkbox\" ><label for=\"sk-estimator-id-13\" class=\"sk-toggleable__label sk-toggleable__label-arrow\">preprocessing: ColumnTransformer</label><div class=\"sk-toggleable__content\"><pre>ColumnTransformer(remainder=&#x27;passthrough&#x27;,\n",
       "                  transformers=[(&#x27;one_hot&#x27;, OneHotEncoder(),\n",
       "                                 [&#x27;ocean_proximity&#x27;]),\n",
       "                                (&#x27;scaler&#x27;,\n",
       "                                 Pipeline(steps=[(&#x27;scaler&#x27;, RobustScaler())]),\n",
       "                                 [&#x27;housing_median_age&#x27;, &#x27;total_rooms&#x27;,\n",
       "                                  &#x27;total_bedrooms&#x27;, &#x27;population&#x27;, &#x27;households&#x27;,\n",
       "                                  &#x27;median_income&#x27;])])</pre></div></div></div><div class=\"sk-parallel\"><div class=\"sk-parallel-item\"><div class=\"sk-item\"><div class=\"sk-label-container\"><div class=\"sk-label sk-toggleable\"><input class=\"sk-toggleable__control sk-hidden--visually\" id=\"sk-estimator-id-14\" type=\"checkbox\" ><label for=\"sk-estimator-id-14\" class=\"sk-toggleable__label sk-toggleable__label-arrow\">one_hot</label><div class=\"sk-toggleable__content\"><pre>[&#x27;ocean_proximity&#x27;]</pre></div></div></div><div class=\"sk-serial\"><div class=\"sk-item\"><div class=\"sk-estimator sk-toggleable\"><input class=\"sk-toggleable__control sk-hidden--visually\" id=\"sk-estimator-id-15\" type=\"checkbox\" ><label for=\"sk-estimator-id-15\" class=\"sk-toggleable__label sk-toggleable__label-arrow\">OneHotEncoder</label><div class=\"sk-toggleable__content\"><pre>OneHotEncoder()</pre></div></div></div></div></div></div><div class=\"sk-parallel-item\"><div class=\"sk-item\"><div class=\"sk-label-container\"><div class=\"sk-label sk-toggleable\"><input class=\"sk-toggleable__control sk-hidden--visually\" id=\"sk-estimator-id-16\" type=\"checkbox\" ><label for=\"sk-estimator-id-16\" class=\"sk-toggleable__label sk-toggleable__label-arrow\">scaler</label><div class=\"sk-toggleable__content\"><pre>[&#x27;housing_median_age&#x27;, &#x27;total_rooms&#x27;, &#x27;total_bedrooms&#x27;, &#x27;population&#x27;, &#x27;households&#x27;, &#x27;median_income&#x27;]</pre></div></div></div><div class=\"sk-serial\"><div class=\"sk-item\"><div class=\"sk-serial\"><div class=\"sk-item\"><div class=\"sk-estimator sk-toggleable\"><input class=\"sk-toggleable__control sk-hidden--visually\" id=\"sk-estimator-id-17\" type=\"checkbox\" ><label for=\"sk-estimator-id-17\" class=\"sk-toggleable__label sk-toggleable__label-arrow\">RobustScaler</label><div class=\"sk-toggleable__content\"><pre>RobustScaler()</pre></div></div></div></div></div></div></div></div><div class=\"sk-parallel-item\"><div class=\"sk-item\"><div class=\"sk-label-container\"><div class=\"sk-label sk-toggleable\"><input class=\"sk-toggleable__control sk-hidden--visually\" id=\"sk-estimator-id-18\" type=\"checkbox\" ><label for=\"sk-estimator-id-18\" class=\"sk-toggleable__label sk-toggleable__label-arrow\">remainder</label><div class=\"sk-toggleable__content\"><pre>[&#x27;longitude&#x27;, &#x27;latitude&#x27;]</pre></div></div></div><div class=\"sk-serial\"><div class=\"sk-item\"><div class=\"sk-estimator sk-toggleable\"><input class=\"sk-toggleable__control sk-hidden--visually\" id=\"sk-estimator-id-19\" type=\"checkbox\" ><label for=\"sk-estimator-id-19\" class=\"sk-toggleable__label sk-toggleable__label-arrow\">passthrough</label><div class=\"sk-toggleable__content\"><pre>passthrough</pre></div></div></div></div></div></div></div></div><div class=\"sk-item\"><div class=\"sk-estimator sk-toggleable\"><input class=\"sk-toggleable__control sk-hidden--visually\" id=\"sk-estimator-id-20\" type=\"checkbox\" ><label for=\"sk-estimator-id-20\" class=\"sk-toggleable__label sk-toggleable__label-arrow\">RandomForestRegressor</label><div class=\"sk-toggleable__content\"><pre>RandomForestRegressor(random_state=100)</pre></div></div></div></div></div></div></div></div></div></div></div></div>"
      ],
      "text/plain": [
       "GridSearchCV(cv=5,\n",
       "             estimator=Pipeline(steps=[('preprocessing',\n",
       "                                        ColumnTransformer(remainder='passthrough',\n",
       "                                                          transformers=[('one_hot',\n",
       "                                                                         OneHotEncoder(),\n",
       "                                                                         ['ocean_proximity']),\n",
       "                                                                        ('scaler',\n",
       "                                                                         Pipeline(steps=[('scaler',\n",
       "                                                                                          RobustScaler())]),\n",
       "                                                                         ['housing_median_age',\n",
       "                                                                          'total_rooms',\n",
       "                                                                          'total_bedrooms',\n",
       "                                                                          'population',\n",
       "                                                                          'households',\n",
       "                                                                          'median_income'])])),\n",
       "                                       ('algorithm',\n",
       "                                        RandomForestRegressor(random_state=100))]),\n",
       "             n_jobs=-1,\n",
       "             param_grid={'algorithm__max_depth': array([1, 2, 3, 4, 5, 6, 7, 8, 9]),\n",
       "                         'algorithm__min_samples_leaf': array([1, 2, 3, 4, 5, 6, 7, 8, 9]),\n",
       "                         'algorithm__min_samples_split': array([2, 3, 4, 5, 6, 7, 8, 9]),\n",
       "                         'preprocessing__scaler__scaler': [MinMaxScaler(),\n",
       "                                                           StandardScaler(),\n",
       "                                                           RobustScaler()]},\n",
       "             scoring='neg_mean_absolute_percentage_error', verbose=1)"
      ]
     },
     "execution_count": 55,
     "metadata": {},
     "output_type": "execute_result"
    }
   ],
   "source": [
    "gridsearch.fit(xtrain, ytrain)"
   ]
  },
  {
   "cell_type": "code",
   "execution_count": 56,
   "metadata": {},
   "outputs": [
    {
     "name": "stdout",
     "output_type": "stream",
     "text": [
      "-0.21557182750585238\n",
      "{'algorithm__max_depth': 9, 'algorithm__min_samples_leaf': 6, 'algorithm__min_samples_split': 2, 'preprocessing__scaler__scaler': RobustScaler()}\n"
     ]
    }
   ],
   "source": [
    "print(gridsearch.best_score_)\n",
    "print(gridsearch.best_params_)"
   ]
  },
  {
   "cell_type": "markdown",
   "metadata": {},
   "source": [
    "Berdasarkan hasil hyperparameter tuning, parameter terbaik pada RandomForestRegressor adalah : \n",
    "- Max Depth : 9\n",
    "- Min Samples Leaf : 6\n",
    "- Min Samples Split : 2\n",
    "- Scaler : Robust Scaler"
   ]
  },
  {
   "cell_type": "markdown",
   "metadata": {},
   "source": [
    "#### *Prediksi Data Test dengan Model Setelah Tuning*"
   ]
  },
  {
   "cell_type": "markdown",
   "metadata": {},
   "source": [
    "Pada tahapan ini saya akan melakukan prediksi pada data test dengan menggunakan model XGBoostRegressor dan RandomForestRegressor. Hasil dari prediksi kedua model ini akan saya bandingkan dengan hasil prediksi sebelum dilakukan tuning untuk menentukan model akhir yang akan digunakan."
   ]
  },
  {
   "cell_type": "markdown",
   "metadata": {},
   "source": [
    "##### Prediksi dengan XGBRegressor Setelah Tuning"
   ]
  },
  {
   "cell_type": "code",
   "execution_count": 57,
   "metadata": {},
   "outputs": [
    {
     "data": {
      "text/html": [
       "<div>\n",
       "<style scoped>\n",
       "    .dataframe tbody tr th:only-of-type {\n",
       "        vertical-align: middle;\n",
       "    }\n",
       "\n",
       "    .dataframe tbody tr th {\n",
       "        vertical-align: top;\n",
       "    }\n",
       "\n",
       "    .dataframe thead th {\n",
       "        text-align: right;\n",
       "    }\n",
       "</style>\n",
       "<table border=\"1\" class=\"dataframe\">\n",
       "  <thead>\n",
       "    <tr style=\"text-align: right;\">\n",
       "      <th></th>\n",
       "      <th>Model</th>\n",
       "      <th>MAE</th>\n",
       "      <th>MAPE</th>\n",
       "      <th>RMSE</th>\n",
       "    </tr>\n",
       "  </thead>\n",
       "  <tbody>\n",
       "    <tr>\n",
       "      <th>0</th>\n",
       "      <td>XGBRegressor After Tuning</td>\n",
       "      <td>30705.116642</td>\n",
       "      <td>0.166642</td>\n",
       "      <td>45592.53979</td>\n",
       "    </tr>\n",
       "  </tbody>\n",
       "</table>\n",
       "</div>"
      ],
      "text/plain": [
       "                       Model           MAE      MAPE         RMSE\n",
       "0  XGBRegressor After Tuning  30705.116642  0.166642  45592.53979"
      ]
     },
     "execution_count": 57,
     "metadata": {},
     "output_type": "execute_result"
    }
   ],
   "source": [
    "predict_MAE_xgb = []\n",
    "predict_MAPE_xgb = []\n",
    "predict_RMSE_xgb = []\n",
    "\n",
    "pipe_model_xgb = Pipeline([\n",
    "    ('preprocessing',transformer),\n",
    "    ('scaler', MinMaxScaler()),\n",
    "    ('modeling',XGBRegressor(gamma= 0,learning_rate=0.1,max_depth=9))\n",
    "])\n",
    "\n",
    "#fit\n",
    "pipe_model_xgb.fit(xtrain,ytrain)\n",
    "\n",
    "#predict\n",
    "ypredict_xgb = pipe_model_xgb.predict(xtest)\n",
    "predict_MAE_xgb.append(mean_absolute_error(ytest,ypredict_xgb))\n",
    "predict_MAPE_xgb.append(mean_absolute_percentage_error(ytest,ypredict_xgb))\n",
    "predict_RMSE_xgb.append(np.sqrt(mean_squared_error(ytest, ypredict_xgb)))\n",
    "\n",
    "Hasil_predict_xgb = pd.DataFrame()\n",
    "Hasil_predict_xgb['Model'] = ['XGBRegressor After Tuning']\n",
    "Hasil_predict_xgb['MAE'] = predict_MAE_xgb\n",
    "Hasil_predict_xgb['MAPE'] = predict_MAPE_xgb\n",
    "Hasil_predict_xgb['RMSE'] = predict_RMSE_xgb\n",
    "Hasil_predict_xgb"
   ]
  },
  {
   "cell_type": "markdown",
   "metadata": {},
   "source": [
    "##### Prediksi dengan RandomForestRegressor Setelah Tuning"
   ]
  },
  {
   "cell_type": "code",
   "execution_count": 58,
   "metadata": {},
   "outputs": [
    {
     "data": {
      "text/html": [
       "<div>\n",
       "<style scoped>\n",
       "    .dataframe tbody tr th:only-of-type {\n",
       "        vertical-align: middle;\n",
       "    }\n",
       "\n",
       "    .dataframe tbody tr th {\n",
       "        vertical-align: top;\n",
       "    }\n",
       "\n",
       "    .dataframe thead th {\n",
       "        text-align: right;\n",
       "    }\n",
       "</style>\n",
       "<table border=\"1\" class=\"dataframe\">\n",
       "  <thead>\n",
       "    <tr style=\"text-align: right;\">\n",
       "      <th></th>\n",
       "      <th>Model</th>\n",
       "      <th>MAE</th>\n",
       "      <th>MAPE</th>\n",
       "      <th>RMSE</th>\n",
       "    </tr>\n",
       "  </thead>\n",
       "  <tbody>\n",
       "    <tr>\n",
       "      <th>0</th>\n",
       "      <td>RandomForestRegressor After Tuning</td>\n",
       "      <td>37347.295034</td>\n",
       "      <td>0.205498</td>\n",
       "      <td>52963.890996</td>\n",
       "    </tr>\n",
       "  </tbody>\n",
       "</table>\n",
       "</div>"
      ],
      "text/plain": [
       "                                Model           MAE      MAPE          RMSE\n",
       "0  RandomForestRegressor After Tuning  37347.295034  0.205498  52963.890996"
      ]
     },
     "execution_count": 58,
     "metadata": {},
     "output_type": "execute_result"
    }
   ],
   "source": [
    "predict_MAE_rfr = []\n",
    "predict_MAPE_rfr = []\n",
    "predict_RMSE_rfr = []\n",
    "\n",
    "pipe_model_rfr = Pipeline([\n",
    "    ('preprocessing',transformer),\n",
    "    ('scaler', RobustScaler()),\n",
    "    ('modeling',RandomForestRegressor(random_state=100, max_depth=9, min_samples_leaf=6, min_samples_split=2))\n",
    "])\n",
    "\n",
    "#fit\n",
    "pipe_model_rfr.fit(xtrain,ytrain)\n",
    "\n",
    "#predict\n",
    "ypredict_rfr = pipe_model_rfr.predict(xtest)\n",
    "predict_MAE_rfr.append(mean_absolute_error(ytest,ypredict_rfr))\n",
    "predict_MAPE_rfr.append(mean_absolute_percentage_error(ytest,ypredict_rfr))\n",
    "predict_RMSE_rfr.append(np.sqrt(mean_squared_error(ytest, ypredict_rfr)))\n",
    "\n",
    "Hasil_predict_rfr = pd.DataFrame()\n",
    "Hasil_predict_rfr['Model'] = ['RandomForestRegressor After Tuning']\n",
    "Hasil_predict_rfr['MAE'] = predict_MAE_rfr\n",
    "Hasil_predict_rfr['MAPE'] = predict_MAPE_rfr\n",
    "Hasil_predict_rfr['RMSE'] = predict_RMSE_rfr\n",
    "Hasil_predict_rfr"
   ]
  },
  {
   "cell_type": "markdown",
   "metadata": {},
   "source": [
    "#### *Final Model*"
   ]
  },
  {
   "cell_type": "code",
   "execution_count": 59,
   "metadata": {},
   "outputs": [
    {
     "data": {
      "text/html": [
       "<div>\n",
       "<style scoped>\n",
       "    .dataframe tbody tr th:only-of-type {\n",
       "        vertical-align: middle;\n",
       "    }\n",
       "\n",
       "    .dataframe tbody tr th {\n",
       "        vertical-align: top;\n",
       "    }\n",
       "\n",
       "    .dataframe thead th {\n",
       "        text-align: right;\n",
       "    }\n",
       "</style>\n",
       "<table border=\"1\" class=\"dataframe\">\n",
       "  <thead>\n",
       "    <tr style=\"text-align: right;\">\n",
       "      <th></th>\n",
       "      <th>Model</th>\n",
       "      <th>MAE</th>\n",
       "      <th>MAPE</th>\n",
       "      <th>RMSE</th>\n",
       "    </tr>\n",
       "  </thead>\n",
       "  <tbody>\n",
       "    <tr>\n",
       "      <th>2</th>\n",
       "      <td>XGBRegressor After Tuning</td>\n",
       "      <td>30705.116642</td>\n",
       "      <td>0.166642</td>\n",
       "      <td>45592.539790</td>\n",
       "    </tr>\n",
       "    <tr>\n",
       "      <th>0</th>\n",
       "      <td>RandomForestRegressor</td>\n",
       "      <td>32146.998625</td>\n",
       "      <td>0.173770</td>\n",
       "      <td>47389.480213</td>\n",
       "    </tr>\n",
       "    <tr>\n",
       "      <th>1</th>\n",
       "      <td>XGBRegressor</td>\n",
       "      <td>32165.189109</td>\n",
       "      <td>0.176221</td>\n",
       "      <td>46984.722961</td>\n",
       "    </tr>\n",
       "    <tr>\n",
       "      <th>3</th>\n",
       "      <td>RandomForestRegressor After Tuning</td>\n",
       "      <td>37347.295034</td>\n",
       "      <td>0.205498</td>\n",
       "      <td>52963.890996</td>\n",
       "    </tr>\n",
       "  </tbody>\n",
       "</table>\n",
       "</div>"
      ],
      "text/plain": [
       "                                Model           MAE      MAPE          RMSE\n",
       "2           XGBRegressor After Tuning  30705.116642  0.166642  45592.539790\n",
       "0               RandomForestRegressor  32146.998625  0.173770  47389.480213\n",
       "1                        XGBRegressor  32165.189109  0.176221  46984.722961\n",
       "3  RandomForestRegressor After Tuning  37347.295034  0.205498  52963.890996"
      ]
     },
     "execution_count": 59,
     "metadata": {},
     "output_type": "execute_result"
    }
   ],
   "source": [
    "hasil_after_tuning = pd.concat([Hasil_predict, Hasil_predict_xgb,Hasil_predict_rfr], ignore_index=True)\n",
    "hasil_after_tuning.sort_values(by='MAPE')"
   ]
  },
  {
   "cell_type": "markdown",
   "metadata": {},
   "source": [
    "Berdasarkan hasil prediksi pada data test, **XGBRegressor setelah dilakukan tuning** adalah model dengan performa terbaik karena memiliki nilai **MAPE** terendah, yaitu **16.6%**. Sehingga model tersebut akan digunakan untuk memprediksi harga rumah. \n",
    "\n",
    "Nilai MAPE sebesar 16.6% menjadikan model ini masuk kedalam kategori **good forecast**."
   ]
  },
  {
   "cell_type": "markdown",
   "metadata": {},
   "source": [
    "#### *Actual vs Prediction Price*"
   ]
  },
  {
   "cell_type": "markdown",
   "metadata": {},
   "source": [
    "Grafik ini digunakan untuk melihat seberapa besar error dari hasil prediksi dari suatu model. Semakin dekat jarak suatu titik dari garis merah, maka nilai errornya makin kecil."
   ]
  },
  {
   "cell_type": "code",
   "execution_count": 60,
   "metadata": {},
   "outputs": [
    {
     "data": {
      "image/png": "[encoded data removed]",
      "text/plain": [
       "<Figure size 1300x600 with 1 Axes>"
      ]
     },
     "metadata": {},
     "output_type": "display_data"
    }
   ],
   "source": [
    "plt.figure(figsize=(13, 6))\n",
    "sns.regplot(x=ytest, y=ypredict_xgb,\n",
    "                    scatter_kws = {\"color\": \"black\", \"alpha\" : 0.5},\n",
    "                    line_kws = {\"color\": \"red\"}).set(title='Actual vs. Prediction Price', \n",
    "                                               xlabel='Actual Price', \n",
    "                                               ylabel='Predicted Price');\n",
    "plt.show()"
   ]
  },
  {
   "cell_type": "markdown",
   "metadata": {},
   "source": [
    "#### *Feature Importance*"
   ]
  },
  {
   "cell_type": "markdown",
   "metadata": {},
   "source": [
    "Feature importance dilakukan untuk mengetahui seberapa besar pengaruh sebuah fitur dalam mempengaruhi nilai dari target."
   ]
  },
  {
   "cell_type": "code",
   "execution_count": 61,
   "metadata": {},
   "outputs": [
    {
     "data": {
      "text/html": [
       "<div>\n",
       "<style scoped>\n",
       "    .dataframe tbody tr th:only-of-type {\n",
       "        vertical-align: middle;\n",
       "    }\n",
       "\n",
       "    .dataframe tbody tr th {\n",
       "        vertical-align: top;\n",
       "    }\n",
       "\n",
       "    .dataframe thead th {\n",
       "        text-align: right;\n",
       "    }\n",
       "</style>\n",
       "<table border=\"1\" class=\"dataframe\">\n",
       "  <thead>\n",
       "    <tr style=\"text-align: right;\">\n",
       "      <th></th>\n",
       "      <th>Feature</th>\n",
       "      <th>Importance Value</th>\n",
       "    </tr>\n",
       "  </thead>\n",
       "  <tbody>\n",
       "    <tr>\n",
       "      <th>2</th>\n",
       "      <td>one_hot__ocean_proximity_3</td>\n",
       "      <td>0.635950</td>\n",
       "    </tr>\n",
       "    <tr>\n",
       "      <th>10</th>\n",
       "      <td>scaler__median_income</td>\n",
       "      <td>0.194738</td>\n",
       "    </tr>\n",
       "    <tr>\n",
       "      <th>11</th>\n",
       "      <td>remainder__longitude</td>\n",
       "      <td>0.033134</td>\n",
       "    </tr>\n",
       "    <tr>\n",
       "      <th>12</th>\n",
       "      <td>remainder__latitude</td>\n",
       "      <td>0.032031</td>\n",
       "    </tr>\n",
       "    <tr>\n",
       "      <th>1</th>\n",
       "      <td>one_hot__ocean_proximity_2</td>\n",
       "      <td>0.018549</td>\n",
       "    </tr>\n",
       "    <tr>\n",
       "      <th>8</th>\n",
       "      <td>scaler__population</td>\n",
       "      <td>0.016877</td>\n",
       "    </tr>\n",
       "    <tr>\n",
       "      <th>5</th>\n",
       "      <td>scaler__housing_median_age</td>\n",
       "      <td>0.015599</td>\n",
       "    </tr>\n",
       "    <tr>\n",
       "      <th>7</th>\n",
       "      <td>scaler__total_bedrooms</td>\n",
       "      <td>0.014497</td>\n",
       "    </tr>\n",
       "    <tr>\n",
       "      <th>9</th>\n",
       "      <td>scaler__households</td>\n",
       "      <td>0.011295</td>\n",
       "    </tr>\n",
       "    <tr>\n",
       "      <th>3</th>\n",
       "      <td>one_hot__ocean_proximity_4</td>\n",
       "      <td>0.010739</td>\n",
       "    </tr>\n",
       "    <tr>\n",
       "      <th>0</th>\n",
       "      <td>one_hot__ocean_proximity_1</td>\n",
       "      <td>0.008384</td>\n",
       "    </tr>\n",
       "    <tr>\n",
       "      <th>6</th>\n",
       "      <td>scaler__total_rooms</td>\n",
       "      <td>0.008190</td>\n",
       "    </tr>\n",
       "    <tr>\n",
       "      <th>4</th>\n",
       "      <td>one_hot__ocean_proximity_5</td>\n",
       "      <td>0.000016</td>\n",
       "    </tr>\n",
       "  </tbody>\n",
       "</table>\n",
       "</div>"
      ],
      "text/plain": [
       "                       Feature  Importance Value\n",
       "2   one_hot__ocean_proximity_3          0.635950\n",
       "10       scaler__median_income          0.194738\n",
       "11        remainder__longitude          0.033134\n",
       "12         remainder__latitude          0.032031\n",
       "1   one_hot__ocean_proximity_2          0.018549\n",
       "8           scaler__population          0.016877\n",
       "5   scaler__housing_median_age          0.015599\n",
       "7       scaler__total_bedrooms          0.014497\n",
       "9           scaler__households          0.011295\n",
       "3   one_hot__ocean_proximity_4          0.010739\n",
       "0   one_hot__ocean_proximity_1          0.008384\n",
       "6          scaler__total_rooms          0.008190\n",
       "4   one_hot__ocean_proximity_5          0.000016"
      ]
     },
     "execution_count": 61,
     "metadata": {},
     "output_type": "execute_result"
    }
   ],
   "source": [
    "feature_imp = pd.DataFrame(pipe_model_xgb['modeling'].feature_importances_, transformer.get_feature_names_out()).reset_index()\n",
    "feature_imp.rename(columns={'index' : 'Feature', 0 : 'Importance Value'}).sort_values(by='Importance Value', ascending=False)\n"
   ]
  },
  {
   "cell_type": "markdown",
   "metadata": {},
   "source": [
    "Data diatas menunjukkan bahwa jarak suatu rumah ke laut sangat mempengaruhi harga dari suatu rumah. Diikuti dengan nilai median dari penghasilan setiap kepala keluarga pada suatu blok perumahan."
   ]
  },
  {
   "cell_type": "markdown",
   "metadata": {},
   "source": [
    "#### *Save Model*"
   ]
  },
  {
   "cell_type": "code",
   "execution_count": 62,
   "metadata": {},
   "outputs": [],
   "source": [
    "model_xgb_tune = Pipeline([\n",
    "    ('preprocessing',transformer),\n",
    "    ('scaler', MinMaxScaler()),\n",
    "    ('modeling',XGBRegressor(gamma= 0,learning_rate=0.1,max_depth=9))\n",
    "])\n",
    "\n",
    "pickle.dump(model_xgb_tune, open('California_house_model.sav', 'wb'))"
   ]
  },
  {
   "cell_type": "markdown",
   "metadata": {},
   "source": [
    "### **Kesimpulan**"
   ]
  },
  {
   "cell_type": "markdown",
   "metadata": {},
   "source": [
    "- Berdasarkan proses modeling yang telah dilakukan, fitur yang paling mempengaruhi harga dari sebuah rumah adalah 'ocean_proximity'.\n",
    "\n",
    "- Model final yang akan digunakan adalah model dengan algoritma XGBRegressor yang telah dilakukan hyperparameter tuning. XGBRegressor memiliki nilai MAPE (Mean Absolute Percantage Error) sebesar 17.6%. Setelah dilakukan hyperparameter tuning, performa model tersebut meningkat hingga hanya memiliki MAPE sebesar 16.6%. Artinya, prediksi harga dari model akan meleset kurang lebih 16.6% dari harga asli.\n",
    "\n",
    "- Performa model final akan lebih baik jika digunakan hanya untuk memprediksi harga rumah yang ada di rentan 14.999 - 500.001 USD. Jika diluar rentan tersebut, error yang dihasilkan bisa lebih besar karena model tidak dilatih untuk mengenali nilai yang ada diluar rentan tersebut."
   ]
  },
  {
   "cell_type": "markdown",
   "metadata": {},
   "source": [
    "### **Reccomendation**"
   ]
  },
  {
   "cell_type": "markdown",
   "metadata": {},
   "source": [
    "Untuk meningkatkan performa dari model, ada beberapa langkah lanjutan yang dapat dilakukan. Yaitu : \n",
    "\n",
    "1. Memperbanyak fitur yang memiliki korelasi dengan harga rumah, karena model ini hanya dilatih menggunakan 9 fitur.\n",
    "2. Menambah data harga rumah dengan harga yang ada diluar rentan 14.999 - 500.001 USD. Agar model memiliki rentan harga prediksi yang lebih besar.\n",
    "3. Menambah variable baru yang *dituning* pada proses hyperparameter tuning. Selain menambah variable baru, rentan nilai yang *dituning* pada variable yang sudah digunakan juga diperbesar. Tentunya hal tersebut juga harus diikuti dengan penambahan *resource* komputasi agar proses modeling tidak membutuhkan waktu yang terlalu lama.\n",
    "4. Melakukan modeling dengan model *Machine Learning* yang lebih kompleks, seperti *Deep Learning*.\n"
   ]
  }
 ],
 "metadata": {
  "kernelspec": {
   "display_name": "Python 3",
   "language": "python",
   "name": "python3"
  },
  "language_info": {
   "codemirror_mode": {
    "name": "ipython",
    "version": 3
   },
   "file_extension": ".py",
   "mimetype": "text/x-python",
   "name": "python",
   "nbconvert_exporter": "python",
   "pygments_lexer": "ipython3",
   "version": "3.11.2"
  },
  "orig_nbformat": 4
 },
 "nbformat": 4,
 "nbformat_minor": 2
}
